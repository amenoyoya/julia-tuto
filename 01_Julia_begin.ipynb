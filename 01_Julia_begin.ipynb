{
 "cells": [
  {
   "cell_type": "markdown",
   "metadata": {},
   "source": [
    "# Julia入門\n",
    "\n",
    "## 変数\n",
    "\n",
    "- **変数**\n",
    "    - Juliaにおける変数は、値に紐づく名前を示す\n",
    "    - 計算によって得た値などを保存しておくために使用する"
   ]
  },
  {
   "cell_type": "code",
   "execution_count": 1,
   "metadata": {},
   "outputs": [
    {
     "data": {
      "text/plain": [
       "10"
      ]
     },
     "execution_count": 1,
     "metadata": {},
     "output_type": "execute_result"
    }
   ],
   "source": [
    "# 変数 x に 値 10 を保存しておく\n",
    "x = 10"
   ]
  },
  {
   "cell_type": "code",
   "execution_count": 2,
   "metadata": {},
   "outputs": [
    {
     "data": {
      "text/plain": [
       "11"
      ]
     },
     "execution_count": 2,
     "metadata": {},
     "output_type": "execute_result"
    }
   ],
   "source": [
    "# 変数 x に 1 を足す\n",
    "x + 1"
   ]
  },
  {
   "cell_type": "code",
   "execution_count": 3,
   "metadata": {},
   "outputs": [
    {
     "data": {
      "text/plain": [
       "\"Hello!\""
      ]
     },
     "execution_count": 3,
     "metadata": {},
     "output_type": "execute_result"
    }
   ],
   "source": [
    "# 変数には別の型を入れ直すこともできる\n",
    "## 現在、変数 x には 数値 10 が入っているが、文字列 \"Hello!\" を入れ直すことが可能\n",
    "x = \"Hello!\""
   ]
  },
  {
   "cell_type": "markdown",
   "metadata": {},
   "source": [
    "### 使用可能な変数名\n",
    "\n",
    "- アルファベット（a-z, A-Z）\n",
    "- 数字（0-9）\n",
    "- `_`, `!`, ...等の記号\n",
    "- Unicode文字\n",
    "\n",
    "ただし、ビルトインステートメントの名前（`if`, `else`, ...等）を変数名として使用することはできない\n",
    "\n",
    "また、`+`, `-` 等の演算子記号も変数名として定義されてはいるが、再割り当てを行うことはできない"
   ]
  },
  {
   "cell_type": "code",
   "execution_count": 4,
   "metadata": {},
   "outputs": [
    {
     "ename": "LoadError",
     "evalue": "syntax: unexpected \"else\"",
     "output_type": "error",
     "traceback": [
      "syntax: unexpected \"else\"",
      ""
     ]
    }
   ],
   "source": [
    "else = 3.14"
   ]
  },
  {
   "cell_type": "code",
   "execution_count": 5,
   "metadata": {},
   "outputs": [
    {
     "ename": "LoadError",
     "evalue": "syntax: unexpected \"=\"",
     "output_type": "error",
     "traceback": [
      "syntax: unexpected \"=\"",
      ""
     ]
    }
   ],
   "source": [
    "try = \"No\""
   ]
  },
  {
   "cell_type": "code",
   "execution_count": 6,
   "metadata": {},
   "outputs": [
    {
     "ename": "ErrorException",
     "evalue": "cannot assign variable Base.+ from module Main",
     "output_type": "error",
     "traceback": [
      "cannot assign variable Base.+ from module Main",
      "",
      "Stacktrace:",
      " [1] top-level scope at In[6]:1"
     ]
    }
   ],
   "source": [
    "(+) = function (a, b)\n",
    "    return a - b\n",
    "end"
   ]
  },
  {
   "cell_type": "markdown",
   "metadata": {},
   "source": [
    "## 数値\n",
    "\n",
    "### 数値プリミティブ型\n",
    "- **数値**\n",
    "    - 整数と浮動小数点があり、演算処理の基本的要素となっている\n",
    "    - コード内では、整数（1, 2, ...）は即値、浮動小数点（1.0, 1.1, ...）は数値リテラルと呼ばれる\n",
    "        - 即値と数値リテラルを合わせて数値プリミティブと呼ぶ\n",
    " \n",
    "#### 整数型\n",
    "型      | 符号の有無 | バイト数 | 最小値   | 最大値\n",
    ":--     |    :--     |   :--    |   :--    |   :--\n",
    "Int8    |     o      |     8    |   -2^7   |   2^7 - 1\n",
    "UInt8   |     x      |     8    |      0   |   2^8 - 1\n",
    "Int16   |     o      |    16    |  -2^15   |  2^15 - 1\n",
    "UInt16  |     x      |    16    |      0   |  2^16 - 1\n",
    "Int32   |     o      |    32    |  -2^31   |  2^31 - 1\n",
    "UInt32  |     x      |    32    |      0   |  2^32 - 1\n",
    "Int64   |     o      |    64    |  -2^63   |  2^63 - 1\n",
    "UInt64  |     x      |    64    |      0   |  2^64 - 1\n",
    "Int128  |     o      |   128    | -2^127   | 2^127 - 1\n",
    "UInt128 |\t  x      |   128    |      0   | 2^128 - 1\n",
    "Bool    |   N/A      |     8    | false(0) |  true(1)\n",
    "\n"
   ]
  }
 ],
 "metadata": {
  "kernelspec": {
   "display_name": "Julia 1.1.1",
   "language": "julia",
   "name": "julia-1.1"
  },
  "language_info": {
   "file_extension": ".jl",
   "mimetype": "application/julia",
   "name": "julia",
   "version": "1.1.1"
  }
 },
 "nbformat": 4,
 "nbformat_minor": 2
}
