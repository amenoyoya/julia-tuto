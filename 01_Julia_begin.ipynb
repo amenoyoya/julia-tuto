{
 "cells": [
  {
   "cell_type": "markdown",
   "metadata": {},
   "source": [
    "# Julia入門\n",
    "\n",
    "## 変数\n",
    "\n",
    "- **変数**\n",
    "    - Juliaにおける変数は、値に紐づく名前を示す\n",
    "    - 計算によって得た値などを保存しておくために使用する"
   ]
  },
  {
   "cell_type": "code",
   "execution_count": 1,
   "metadata": {},
   "outputs": [
    {
     "data": {
      "text/plain": [
       "10"
      ]
     },
     "execution_count": 1,
     "metadata": {},
     "output_type": "execute_result"
    }
   ],
   "source": [
    "# 変数 x に 値 10 を保存しておく\n",
    "x = 10"
   ]
  },
  {
   "cell_type": "code",
   "execution_count": 2,
   "metadata": {},
   "outputs": [
    {
     "data": {
      "text/plain": [
       "11"
      ]
     },
     "execution_count": 2,
     "metadata": {},
     "output_type": "execute_result"
    }
   ],
   "source": [
    "# 変数 x に 1 を足す\n",
    "x + 1"
   ]
  },
  {
   "cell_type": "code",
   "execution_count": 3,
   "metadata": {},
   "outputs": [
    {
     "data": {
      "text/plain": [
       "\"Hello!\""
      ]
     },
     "execution_count": 3,
     "metadata": {},
     "output_type": "execute_result"
    }
   ],
   "source": [
    "# 変数には別の型を入れ直すこともできる\n",
    "## 現在、変数 x には 数値 10 が入っているが、文字列 \"Hello!\" を入れ直すことが可能\n",
    "x = \"Hello!\""
   ]
  },
  {
   "cell_type": "markdown",
   "metadata": {},
   "source": [
    "### 使用可能な変数名\n",
    "\n",
    "- アルファベット（a-z, A-Z）\n",
    "- 数字（0-9）\n",
    "- `_`, `!`, ...等の記号\n",
    "- Unicode文字\n",
    "\n",
    "ただし、ビルトインステートメントの名前（`if`, `else`, ...等）を変数名として使用することはできない\n",
    "\n",
    "また、`+`, `-` 等の演算子記号も変数名として定義されてはいるが、再割り当てを行うことはできない"
   ]
  },
  {
   "cell_type": "code",
   "execution_count": 4,
   "metadata": {},
   "outputs": [
    {
     "ename": "LoadError",
     "evalue": "syntax: unexpected \"else\"",
     "output_type": "error",
     "traceback": [
      "syntax: unexpected \"else\"",
      ""
     ]
    }
   ],
   "source": [
    "else = 3.14"
   ]
  },
  {
   "cell_type": "code",
   "execution_count": 5,
   "metadata": {},
   "outputs": [
    {
     "ename": "LoadError",
     "evalue": "syntax: unexpected \"=\"",
     "output_type": "error",
     "traceback": [
      "syntax: unexpected \"=\"",
      ""
     ]
    }
   ],
   "source": [
    "try = \"No\""
   ]
  },
  {
   "cell_type": "code",
   "execution_count": 6,
   "metadata": {},
   "outputs": [
    {
     "ename": "ErrorException",
     "evalue": "cannot assign variable Base.+ from module Main",
     "output_type": "error",
     "traceback": [
      "cannot assign variable Base.+ from module Main",
      "",
      "Stacktrace:",
      " [1] top-level scope at In[6]:1"
     ]
    }
   ],
   "source": [
    "(+) = function (a, b)\n",
    "    return a - b\n",
    "end"
   ]
  },
  {
   "cell_type": "markdown",
   "metadata": {},
   "source": [
    "## 数値\n",
    "\n",
    "### 数値プリミティブ型\n",
    "- **数値**\n",
    "    - 整数と浮動小数点があり、演算処理の基本的要素となっている\n",
    "    - コード内では、整数（1, 2, ...）は即値、浮動小数点（1.0, 1.1, ...）は数値リテラルと呼ばれる\n",
    "        - 即値と数値リテラルを合わせて数値プリミティブと呼ぶ\n",
    " \n",
    "#### 整数型\n",
    "型      | 符号の有無 | バイト数 | 最小値   | 最大値\n",
    ":--     |    :--     |   :--    |   :--    |   :--\n",
    "Int8    |     o      |     8    |   -2^7   |   2^7 - 1\n",
    "UInt8   |     x      |     8    |      0   |   2^8 - 1\n",
    "Int16   |     o      |    16    |  -2^15   |  2^15 - 1\n",
    "UInt16  |     x      |    16    |      0   |  2^16 - 1\n",
    "Int32   |     o      |    32    |  -2^31   |  2^31 - 1\n",
    "UInt32  |     x      |    32    |      0   |  2^32 - 1\n",
    "Int64   |     o      |    64    |  -2^63   |  2^63 - 1\n",
    "UInt64  |     x      |    64    |      0   |  2^64 - 1\n",
    "Int128  |     o      |   128    | -2^127   | 2^127 - 1\n",
    "UInt128 |\t  x      |   128    |      0   | 2^128 - 1\n",
    "Bool    |   N/A      |     8    | false(0) |  true(1)\n",
    "\n",
    "#### 浮動小数点\n",
    "型      |  精度  | バイト数 　　　　\n",
    ":--     |  :--   |  :--\n",
    "Float16 |  half\t |   16\n",
    "Float32 | single |   32\n",
    "Float64 | double |   64\n",
    "\n",
    "#### 特殊な浮動小数点値\n",
    "Float16 | Float32 | Float64 |    名称    |  概要\n",
    ":--     |  :--    |  :--    |    :--     |  :--\n",
    " Inf16  |  Inf32  |  Inf    | 正の無限大 | 全ての有限の浮動小数点値よりも大きい値\n",
    "-Inf16  | -Inf32  | -Inf    | 負の無限大 | 全ての有限の浮動小数点数値よりも小さい値\n",
    " NaN16  |  NaN32  |  NaN    |   非数値   | 浮動小数点値以外の値"
   ]
  },
  {
   "cell_type": "code",
   "execution_count": 7,
   "metadata": {},
   "outputs": [
    {
     "data": {
      "text/plain": [
       "Int64"
      ]
     },
     "execution_count": 7,
     "metadata": {},
     "output_type": "execute_result"
    }
   ],
   "source": [
    "# Systemが32bitか64bitか確認\n",
    "## -> Int32: 32bit, Int64: 64bit\n",
    "typeof(1)"
   ]
  },
  {
   "cell_type": "code",
   "execution_count": 8,
   "metadata": {},
   "outputs": [
    {
     "data": {
      "text/plain": [
       "64"
      ]
     },
     "execution_count": 8,
     "metadata": {},
     "output_type": "execute_result"
    }
   ],
   "source": [
    "# 内部変数 Sys.WORD_SIZE でも　System bit を判別できる\n",
    "Sys.WORD_SIZE"
   ]
  },
  {
   "cell_type": "code",
   "execution_count": 9,
   "metadata": {},
   "outputs": [
    {
     "name": "stdout",
     "output_type": "stream",
     "text": [
      "Int64\n",
      "UInt8\n",
      "UInt16\n",
      "2\n",
      "8\n"
     ]
    }
   ],
   "source": [
    "# 整数型いろいろ\n",
    "println(typeof(3000000000))\n",
    "println(typeof(0xff)) # 16進数 ff -> 10進数 255\n",
    "println(typeof(0x123)) # 16進数 123 -> 10進数 291\n",
    "\n",
    "# 2進数 10 -> 10進数 2\n",
    "println(0b10)\n",
    "\n",
    "# 8進数 10 -> 10進数 8\n",
    "println(0o10)"
   ]
  },
  {
   "cell_type": "code",
   "execution_count": 10,
   "metadata": {},
   "outputs": [
    {
     "name": "stdout",
     "output_type": "stream",
     "text": [
      "   Int8: 最小値=-128, 最大値=127\n",
      "  Int16: 最小値=-32768, 最大値=32767\n",
      "  Int32: 最小値=-2147483648, 最大値=2147483647\n",
      "  Int64: 最小値=-9223372036854775808, 最大値=9223372036854775807\n",
      " Int128: 最小値=-170141183460469231731687303715884105728, 最大値=170141183460469231731687303715884105727\n",
      "  UInt8: 最小値=0, 最大値=255\n",
      " UInt16: 最小値=0, 最大値=65535\n",
      " UInt32: 最小値=0, 最大値=4294967295\n",
      " UInt64: 最小値=0, 最大値=18446744073709551615\n",
      "UInt128: 最小値=0, 最大値=340282366920938463463374607431768211455\n"
     ]
    }
   ],
   "source": [
    "# 数値プリミティブ型の最小値、最大値を取得\n",
    "for T in [Int8, Int16, Int32, Int64, Int128, UInt8, UInt16, UInt32, UInt64, UInt128]\n",
    "    println(\"$(lpad(T, 7)): 最小値=$(typemin(T)), 最大値=$(typemax(T))\")\n",
    "end"
   ]
  },
  {
   "cell_type": "code",
   "execution_count": 11,
   "metadata": {},
   "outputs": [
    {
     "data": {
      "text/plain": [
       "(10000, 5.0e-9, 0xdeadbeef, 0xb2)"
      ]
     },
     "execution_count": 11,
     "metadata": {},
     "output_type": "execute_result"
    }
   ],
   "source": [
    "# アンダースコアは桁区切り文字として使用可能\n",
    "10_000, 0.000_000_005, 0xdead_beef, 0b1011_0010"
   ]
  },
  {
   "cell_type": "code",
   "execution_count": 12,
   "metadata": {},
   "outputs": [
    {
     "name": "stdout",
     "output_type": "stream",
     "text": [
      "true\n",
      "0000000000000000000000000000000000000000000000000000000000000000\n",
      "1000000000000000000000000000000000000000000000000000000000000000\n"
     ]
    }
   ],
   "source": [
    "# 浮動小数点には +0.0 と -0.0 がある\n",
    "## 2つは同一の値だが、異なるバイナリ表現をもつ（最上位ビットで正負を表現）\n",
    "println(+0.0 == -0.0)\n",
    "println(bitstring(+0.0))\n",
    "println(bitstring(-0.0))"
   ]
  },
  {
   "cell_type": "code",
   "execution_count": 13,
   "metadata": {},
   "outputs": [
    {
     "name": "stdout",
     "output_type": "stream",
     "text": [
      "0.0\n",
      "Inf\n",
      "-Inf\n",
      "NaN\n",
      "NaN"
     ]
    }
   ],
   "source": [
    "# 1÷無限 -> 0\n",
    "println(1 / Inf)\n",
    "\n",
    "# 1÷0 -> 無限\n",
    "println(1 / 0)\n",
    "\n",
    "# -5÷0 -> -無限\n",
    "println(-5 / 0)\n",
    "\n",
    "# 0÷0 -> 計算できない\n",
    "println(0 / 0)\n",
    "\n",
    "# 無限÷無限 -> 計算できない\n",
    "print(Inf / Inf)"
   ]
  },
  {
   "cell_type": "markdown",
   "metadata": {},
   "source": [
    "### 計算機イプシロン\n",
    "\n",
    "- **計算機イプシロン**\n",
    "    - 1より大きい最小の数と1との差のこと\n",
    "    - 実数の差は無限に小さいため、計算機では正確に表現できない\n",
    "        - -> 計算機で表現可能な最小の浮動小数点間の距離を計算機イプシロンとして表現する\n",
    "    - Juliaにおける計算機イプシロンは `eps` 関数で取得可能\n",
    "        - 32bit浮動小数点の計算機イプシロン: 2.0^-23 = 1.1920929e-7\n",
    "        - 64bit浮動小数点の計算機イプシロン: 2.0^-52 = 2.220446049250313e-16"
   ]
  },
  {
   "cell_type": "code",
   "execution_count": 14,
   "metadata": {},
   "outputs": [
    {
     "name": "stdout",
     "output_type": "stream",
     "text": [
      "1.1920929e-7\n",
      "2.220446049250313e-16\n"
     ]
    }
   ],
   "source": [
    "# Float32の計算機イプシロン\n",
    "println(eps(Float32))\n",
    "\n",
    "# Float64の計算機イプシロン\n",
    "println(eps(Float64))"
   ]
  },
  {
   "cell_type": "code",
   "execution_count": 15,
   "metadata": {},
   "outputs": [
    {
     "name": "stdout",
     "output_type": "stream",
     "text": [
      "1.2500001\n",
      "1.2499999\n"
     ]
    }
   ],
   "source": [
    "x = 1.25f0\n",
    "\n",
    "# 1.25より大きい最小の値を取得 -> 1.2500001\n",
    "println(nextfloat(x))\n",
    "\n",
    "# 1.25より小さい最大の値を取得 -> 1.2499999\n",
    "println(prevfloat(x))"
   ]
  },
  {
   "cell_type": "markdown",
   "metadata": {},
   "source": [
    "### 数値リテラル\n",
    "\n",
    "Juliaでは変数を使った乗算などを、より一般的な数式表現で記述することができる\n",
    "\n",
    "```julia\n",
    "1.5 * x^2 - 0.5 * x + 1\n",
    "==\n",
    "1.5x^2 - .5x + 1\n",
    "```"
   ]
  },
  {
   "cell_type": "code",
   "execution_count": 16,
   "metadata": {},
   "outputs": [
    {
     "data": {
      "text/plain": [
       "13.0"
      ]
     },
     "execution_count": 16,
     "metadata": {},
     "output_type": "execute_result"
    }
   ],
   "source": [
    "x = 3\n",
    "\n",
    "1.5 * x^2 - 0.5 * x + 1"
   ]
  },
  {
   "cell_type": "code",
   "execution_count": 17,
   "metadata": {},
   "outputs": [
    {
     "data": {
      "text/plain": [
       "13.0"
      ]
     },
     "execution_count": 17,
     "metadata": {},
     "output_type": "execute_result"
    }
   ],
   "source": [
    "1.5x^2 - .5x + 1"
   ]
  },
  {
   "cell_type": "code",
   "execution_count": 18,
   "metadata": {},
   "outputs": [
    {
     "data": {
      "text/plain": [
       "3"
      ]
     },
     "execution_count": 18,
     "metadata": {},
     "output_type": "execute_result"
    }
   ],
   "source": [
    "2(x - 1)^2 - 3(x - 1) + 1"
   ]
  },
  {
   "cell_type": "code",
   "execution_count": 19,
   "metadata": {},
   "outputs": [
    {
     "ename": "MethodError",
     "evalue": "MethodError: objects of type Int64 are not callable",
     "output_type": "error",
     "traceback": [
      "MethodError: objects of type Int64 are not callable",
      "",
      "Stacktrace:",
      " [1] top-level scope at In[19]:1"
     ]
    }
   ],
   "source": [
    "# ただし、乗算を示すためにカッコの前に変数やカッコ式を置くことはできない\n",
    "## <- カッコが後ろにある式は 関数 と解釈されるため\n",
    "x(x-1)(x+1)"
   ]
  },
  {
   "cell_type": "code",
   "execution_count": null,
   "metadata": {},
   "outputs": [],
   "source": []
  }
 ],
 "metadata": {
  "kernelspec": {
   "display_name": "Julia 1.1.1",
   "language": "julia",
   "name": "julia-1.1"
  },
  "language_info": {
   "file_extension": ".jl",
   "mimetype": "application/julia",
   "name": "julia",
   "version": "1.1.1"
  }
 },
 "nbformat": 4,
 "nbformat_minor": 2
}
