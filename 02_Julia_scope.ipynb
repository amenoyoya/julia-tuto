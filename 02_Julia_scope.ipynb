{
 "cells": [
  {
   "cell_type": "markdown",
   "metadata": {},
   "source": [
    "## 変数のスコープ\n",
    "\n",
    "変数のスコープとは、変数を参照できるコードの範囲のこと（**スコープブロック**）\n",
    "\n",
    "変数のスコープは、変数の名前が衝突するのを避けるのに役立つ\n",
    "\n",
    "同じ変数名が、いつ同じものを参照し、いつそうではないかを決める規則は **スコープ規則** と呼ばれる\n",
    "\n",
    "### スコープブロック\n",
    "\n",
    "スコープ名             | スコープを採用している ブロック／構成要素\n",
    ":--                    | :--\n",
    "グローバルスコープ     | `module`, `baremodule`, 対話セッション (REPL)\n",
    "ソフトローカルスコープ | `for`, `while`, 内包表記, `try-catch-finally`, `let`\n",
    "ハードローカルスコープ | 関数 (通常構文、 無名関数 、 `do`ブロック), `struct`, `macro`"
   ]
  },
  {
   "cell_type": "code",
   "execution_count": null,
   "metadata": {},
   "outputs": [],
   "source": []
  }
 ],
 "metadata": {
  "kernelspec": {
   "display_name": "Julia 1.1.1",
   "language": "julia",
   "name": "julia-1.1"
  },
  "language_info": {
   "file_extension": ".jl",
   "mimetype": "application/julia",
   "name": "julia",
   "version": "1.1.1"
  }
 },
 "nbformat": 4,
 "nbformat_minor": 2
}
