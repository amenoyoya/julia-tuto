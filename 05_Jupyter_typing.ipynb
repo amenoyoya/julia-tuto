{
 "cells": [
  {
   "cell_type": "markdown",
   "metadata": {},
   "source": [
    "## 型\n",
    "\n",
    "Juliaの型システムは動的だが、静的型付システムの方式も一部取り入れている\n",
    "\n",
    "そのため、ある種の値に対しては、型を判定することができる（型推論）\n",
    "\n",
    "型を省略した時は値がどんな型であっても許されるが、型注釈を加えると、システムのパフォーマンスと堅牢性が向上する\n",
    "\n",
    "また、静的に型付けされることで、想定外の値が紛れ込む心配をしなくても良くなり、プログラムが非常に単純化される\n",
    "\n",
    "### Juliaの型システムの特徴\n",
    "- オブジェクトか非オブジェクトかという値の区別がない\n",
    "    - Juliaでは、すべての値は型を持つ真のオブジェクト\n",
    "    - Juliaの型は、すべてのノードが型として等しく第一級である、完全に連結した単一の型のグラフに属している\n",
    "- 値のとる型はただ一つであり、実行時に実際にとるものだけである\n",
    "    - これはオブジェクト指向言語では「実行時型」と呼ばる\n",
    "    - オブジェクト指向言語において多相型の静的コンパイルを行うときは、この型の違いは重要になる\n",
    "- 変数ではなく、値だけが型を持つ\n",
    "    - 変数は値に束縛された単なる名前である\n",
    "- 抽象型と具象型は両方とも、他の型によるパラメータ化が可能\n",
    "    - 型以外にも、シンボル、値でその型が `isbits()` で真となるもの、及びこれらのタプルなどによってパラメータ化が可能\n",
    "    - 参照や制限をする必要がない場合は、型パラメータは省略することができる\n",
    "\n",
    "### 型注釈\n",
    "以下のような形式で型注釈を行うことができる\n",
    "\n",
    "```julia\n",
    "<式, 変数> :: <型名>\n",
    "```\n",
    "\n",
    "型注釈を行うことで以下のようなメリットがある\n",
    "\n",
    "1. 型注釈によりコードが自己説明的になり、プログラムに想定される動作を確認できるようになる\n",
    "2. コンパイラが追加的な型情報を利用できるようなり、パフォーマンスが向上することがある"
   ]
  },
  {
   "cell_type": "code",
   "execution_count": 1,
   "metadata": {},
   "outputs": [
    {
     "data": {
      "text/plain": [
       "3"
      ]
     },
     "execution_count": 1,
     "metadata": {},
     "output_type": "execute_result"
    }
   ],
   "source": [
    "# 整数型の値を宣言\n",
    "(1 + 2) :: Int"
   ]
  },
  {
   "cell_type": "code",
   "execution_count": 2,
   "metadata": {},
   "outputs": [
    {
     "ename": "TypeError",
     "evalue": "TypeError: in typeassert, expected AbstractFloat, got Int64",
     "output_type": "error",
     "traceback": [
      "TypeError: in typeassert, expected AbstractFloat, got Int64",
      "",
      "Stacktrace:",
      " [1] top-level scope at In[2]:1"
     ]
    }
   ],
   "source": [
    "# 誤った型を宣言すると TypeError例外が投げられる\n",
    "(1 + 2) :: AbstractFloat"
   ]
  },
  {
   "cell_type": "code",
   "execution_count": 3,
   "metadata": {},
   "outputs": [
    {
     "name": "stdout",
     "output_type": "stream",
     "text": [
      "123\n"
     ]
    },
    {
     "ename": "MethodError",
     "evalue": "MethodError: no method matching add(::Float64, ::Float64)",
     "output_type": "error",
     "traceback": [
      "MethodError: no method matching add(::Float64, ::Float64)",
      "",
      "Stacktrace:",
      " [1] top-level scope at In[3]:8"
     ]
    }
   ],
   "source": [
    "# 型注釈を行うと、その型以外の値を代入することはできなくなる\n",
    "# -> 想定外の値が代入されることで発生するバグを避けることができる\n",
    "\n",
    "add(x::Int, y::Int) :: Int = x + y\n",
    "\n",
    "# 100 + 23 -> 123\n",
    "println(add(100, 23))\n",
    "\n",
    "# 整数以外の値を渡すとErrorになる\n",
    "println(add(3.14, 0.86))"
   ]
  },
  {
   "cell_type": "markdown",
   "metadata": {},
   "source": [
    "### 抽象型\n",
    "抽象型とは、その子孫となる具象型の集合である\n",
    "\n",
    "例えば `AbstractFloat` という抽象型は `Float16`, `Float32`, `Float64` という具象型の集合である\n",
    "\n",
    "これは以下のような型の階層を表現している\n",
    "\n",
    "```\n",
    "     AbstractFloat      ... AbstractType\n",
    "          |\n",
    "   ----------------\n",
    "   |      |       |\n",
    "Float16 Float32 Float64 ... PrimitiveType\n",
    "```\n",
    "\n",
    "#### 抽象型の宣言\n",
    "抽象型は以下のような形式で宣言される\n",
    "\n",
    "```julia\n",
    "# 親タイプのない抽象型\n",
    "abstract type 型名 end\n",
    "\n",
    "# 親タイプのある抽象型\n",
    "abstract type 型名 <: 親型名 end\n",
    "```\n",
    "\n",
    "Juliaの型システムにおいて、階層の最上位は `Any`型である\n",
    "\n",
    "そのため、親タイプの指定がない場合、その型は `Any`型の直下の子タイプになる\n",
    "\n",
    "逆に、階層の最下位は `Union{}`型であり、全ての型は `Union{}`型の親タイプとなる\n",
    "\n",
    "例えば、Juliaにおける数値型の階層は以下のようになっている\n",
    "\n",
    "```\n",
    "              Any\n",
    "               |\n",
    "             Number\n",
    "               |\n",
    "              Real\n",
    "               |\n",
    "       -----------------\n",
    "       |               |\n",
    "    Integer            |\n",
    "       |               |\n",
    "   ---------           |\n",
    "   |       |           |\n",
    "Signed  Unsigned  AbstractFloat\n",
    "   |       |           |\n",
    "Union{}  Union{}    Union{}\n",
    "```\n",
    "\n",
    "数値型は以下のように定義されている\n",
    "\n",
    "```julia\n",
    "abstract type Number end\n",
    "abstract type Real          <: Number  end\n",
    "abstract type AbstractFloat <: Real    end\n",
    "abstract type Integer       <: Real    end\n",
    "abstract type Signed        <: Integer end\n",
    "abstract type Unsigned      <: Integer end\n",
    "```"
   ]
  },
  {
   "cell_type": "code",
   "execution_count": 4,
   "metadata": {},
   "outputs": [
    {
     "data": {
      "text/plain": [
       "true"
      ]
     },
     "execution_count": 4,
     "metadata": {},
     "output_type": "execute_result"
    }
   ],
   "source": [
    "# <: 演算子は「is a instance of」（〜の子タイプである）を意味する\n",
    "\n",
    "## Integer は Number の子タイプか -> true\n",
    "Integer <: Number"
   ]
  },
  {
   "cell_type": "code",
   "execution_count": 5,
   "metadata": {},
   "outputs": [
    {
     "data": {
      "text/plain": [
       "false"
      ]
     },
     "execution_count": 5,
     "metadata": {},
     "output_type": "execute_result"
    }
   ],
   "source": [
    "# Integer は AbstractFloat の子タイプか -> false\n",
    "Integer <: AbstractFloat"
   ]
  },
  {
   "cell_type": "markdown",
   "metadata": {},
   "source": [
    "### 原始型（プリミティブ型）\n",
    "原始型は、データが普通のビットで構成される具象型である\n",
    "\n",
    "典型的な原始型は、整数や浮動小数点である\n",
    "\n",
    "#### 原始型の宣言\n",
    "Juliaでは、以下のような形式で原始型を独自に宣言することが可能である\n",
    "\n",
    "```julia\n",
    "# 親タイプのない原始型（Any型の子タイプとなる）\n",
    "primitive type 型名 ビット数 end\n",
    "\n",
    "# 親タイプのある原始型\n",
    "primitive type 型名 <: 親型名 ビット数 end\n",
    "```\n",
    "\n",
    "また、Juliaにおける全ての原始型は、以下のようにJulia自身によって定義されている\n",
    "\n",
    "```julia\n",
    "primitive type Float16 <: AbstractFloat 16 end\n",
    "primitive type Float32 <: AbstractFloat 32 end\n",
    "primitive type Float64 <: AbstractFloat 64 end\n",
    "\n",
    "primitive type Bool    <: Integer 8 end\n",
    "primitive type Char 32 end\n",
    "\n",
    "primitive type Int8    <: Signed   8   end\n",
    "primitive type UInt8   <: Unsigned 8   end\n",
    "primitive type Int16   <: Signed   16  end\n",
    "primitive type UInt16  <: Unsigned 16  end\n",
    "primitive type Int32   <: Signed   32  end\n",
    "primitive type UInt32  <: Unsigned 32  end\n",
    "primitive type Int64   <: Signed   64  end\n",
    "primitive type UInt64  <: Unsigned 64  end\n",
    "primitive type Int128  <: Signed   128 end\n",
    "primitive type UInt128 <: Unsigned 128 end\n",
    "```\n",
    "\n",
    "抽象型、原始型を合わせて数値型の階層構造を見ると、以下のようになっている\n",
    "\n",
    "```\n",
    "                              Any\n",
    "                               |\n",
    "               ---------------------------------\n",
    "               |                               |\n",
    "             Number                            |\n",
    "               |                               |\n",
    "              Real                             |\n",
    "               |                               |\n",
    "       -----------------------------           |\n",
    "       |                           |           |\n",
    "    Integer                        |           |\n",
    "       |                           |           |\n",
    " ------------------                |           |\n",
    " |                |                |           |\n",
    " |          ------------           |           |\n",
    " |          |          |           |           |\n",
    " |       Signed      Unsigned  AbstractFloat   |\n",
    " |          |          |           |           |\n",
    "Union{}  Union{}     Union{}    Union{}      Union{}\n",
    " |          |_ Int8    |_ UInt8    |           |\n",
    " |          |_ Int16   |_ UInt16   |           |\n",
    " |          |_ Int32   |_ UInt32   |_ Float16  |\n",
    " |          |_ Int64   |_ UInt64   |_ Float32  |\n",
    " |_ Bool    |_ Int128  |_ UInt128  |_ Float64  |_ Char\n",
    "```"
   ]
  },
  {
   "cell_type": "code",
   "execution_count": null,
   "metadata": {},
   "outputs": [],
   "source": []
  }
 ],
 "metadata": {
  "kernelspec": {
   "display_name": "Julia 1.1.1",
   "language": "julia",
   "name": "julia-1.1"
  },
  "language_info": {
   "file_extension": ".jl",
   "mimetype": "application/julia",
   "name": "julia",
   "version": "1.1.1"
  }
 },
 "nbformat": 4,
 "nbformat_minor": 2
}
