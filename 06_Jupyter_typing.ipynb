{
 "cells": [
  {
   "cell_type": "markdown",
   "metadata": {},
   "source": [
    "## 型\n",
    "\n",
    "Juliaの型システムは動的だが、静的型付システムの方式も一部取り入れている\n",
    "\n",
    "そのため、ある種の値に対しては、型を判定することができる（型推論）\n",
    "\n",
    "型を省略した時は値がどんな型であっても許されるが、型注釈を加えると、システムのパフォーマンスと堅牢性が向上する\n",
    "\n",
    "また、静的に型付けされることで、想定外の値が紛れ込む心配をしなくても良くなり、プログラムが非常に単純化される\n",
    "\n",
    "### Juliaの型システムの特徴\n",
    "- オブジェクトか非オブジェクトかという値の区別がない\n",
    "    - Juliaでは、すべての値は型を持つ真のオブジェクト\n",
    "    - Juliaの型は、すべてのノードが型として等しく第一級である、完全に連結した単一の型のグラフに属している\n",
    "- 値のとる型はただ一つであり、実行時に実際にとるものだけである\n",
    "    - これはオブジェクト指向言語では「実行時型」と呼ばる\n",
    "    - オブジェクト指向言語において多相型の静的コンパイルを行うときは、この型の違いは重要になる\n",
    "- 変数ではなく、値だけが型を持つ\n",
    "    - 変数は値に束縛された単なる名前である\n",
    "- 抽象型と具象型は両方とも、他の型によるパラメータ化が可能\n",
    "    - 型以外にも、シンボル、値でその型が `isbits()` で真となるもの、及びこれらのタプルなどによってパラメータ化が可能\n",
    "    - 参照や制限をする必要がない場合は、型パラメータは省略することができる\n",
    "\n",
    "### 型注釈\n",
    "以下のような形式で型注釈を行うことができる\n",
    "\n",
    "```julia\n",
    "<式, 変数> :: <型名>\n",
    "```\n",
    "\n",
    "型注釈を行うことで以下のようなメリットがある\n",
    "\n",
    "1. 型注釈によりコードが自己説明的になり、プログラムに想定される動作を確認できるようになる\n",
    "2. コンパイラが追加的な型情報を利用できるようなり、パフォーマンスが向上することがある"
   ]
  },
  {
   "cell_type": "code",
   "execution_count": 1,
   "metadata": {},
   "outputs": [
    {
     "data": {
      "text/plain": [
       "3"
      ]
     },
     "execution_count": 1,
     "metadata": {},
     "output_type": "execute_result"
    }
   ],
   "source": [
    "# 整数型の値を宣言\n",
    "(1 + 2) :: Int"
   ]
  },
  {
   "cell_type": "code",
   "execution_count": 2,
   "metadata": {},
   "outputs": [
    {
     "ename": "TypeError",
     "evalue": "TypeError: in typeassert, expected AbstractFloat, got Int64",
     "output_type": "error",
     "traceback": [
      "TypeError: in typeassert, expected AbstractFloat, got Int64",
      "",
      "Stacktrace:",
      " [1] top-level scope at In[2]:1"
     ]
    }
   ],
   "source": [
    "# 誤った型を宣言すると TypeError例外が投げられる\n",
    "(1 + 2) :: AbstractFloat"
   ]
  },
  {
   "cell_type": "code",
   "execution_count": 3,
   "metadata": {},
   "outputs": [
    {
     "name": "stdout",
     "output_type": "stream",
     "text": [
      "123\n"
     ]
    },
    {
     "ename": "MethodError",
     "evalue": "MethodError: no method matching add(::Float64, ::Float64)",
     "output_type": "error",
     "traceback": [
      "MethodError: no method matching add(::Float64, ::Float64)",
      "",
      "Stacktrace:",
      " [1] top-level scope at In[3]:8"
     ]
    }
   ],
   "source": [
    "# 型注釈を行うと、その型以外の値を代入することはできなくなる\n",
    "# -> 想定外の値が代入されることで発生するバグを避けることができる\n",
    "\n",
    "add(x::Int, y::Int) :: Int = x + y\n",
    "\n",
    "# 100 + 23 -> 123\n",
    "println(add(100, 23))\n",
    "\n",
    "# 整数以外の値を渡すとErrorになる\n",
    "println(add(3.14, 0.86))"
   ]
  },
  {
   "cell_type": "markdown",
   "metadata": {},
   "source": [
    "### 抽象型\n",
    "抽象型とは、その子孫となる具象型の集合である\n",
    "\n",
    "例えば `AbstractFloat` という抽象型は `Float16`, `Float32`, `Float64` という具象型の集合である\n",
    "\n",
    "これは以下のような型の階層を表現している\n",
    "\n",
    "```\n",
    "     AbstractFloat      ... AbstractType\n",
    "          |\n",
    "   ----------------\n",
    "   |      |       |\n",
    "Float16 Float32 Float64 ... PrimitiveType\n",
    "```\n",
    "\n",
    "#### 抽象型の宣言\n",
    "抽象型は以下のような形式で宣言される\n",
    "\n",
    "```julia\n",
    "# 親タイプのない抽象型\n",
    "abstract type 型名 end\n",
    "\n",
    "# 親タイプのある抽象型\n",
    "abstract type 型名 <: 親型名 end\n",
    "```\n",
    "\n",
    "Juliaの型システムにおいて、階層の最上位は `Any`型である\n",
    "\n",
    "そのため、親タイプの指定がない場合、その型は `Any`型の直下の子タイプになる\n",
    "\n",
    "逆に、階層の最下位は `Union{}`型であり、全ての型は `Union{}`型の親タイプとなる\n",
    "\n",
    "例えば、Juliaにおける数値型の階層は以下のようになっている\n",
    "\n",
    "```\n",
    "              Any\n",
    "               |\n",
    "             Number\n",
    "               |\n",
    "              Real\n",
    "               |\n",
    "       -----------------\n",
    "       |               |\n",
    "    Integer            |\n",
    "       |               |\n",
    "   ---------           |\n",
    "   |       |           |\n",
    "Signed  Unsigned  AbstractFloat\n",
    "   |       |           |\n",
    "Union{}  Union{}    Union{}\n",
    "```\n",
    "\n",
    "数値型は以下のように定義されている\n",
    "\n",
    "```julia\n",
    "abstract type Number end\n",
    "abstract type Real          <: Number  end\n",
    "abstract type AbstractFloat <: Real    end\n",
    "abstract type Integer       <: Real    end\n",
    "abstract type Signed        <: Integer end\n",
    "abstract type Unsigned      <: Integer end\n",
    "```"
   ]
  },
  {
   "cell_type": "code",
   "execution_count": 4,
   "metadata": {},
   "outputs": [
    {
     "data": {
      "text/plain": [
       "true"
      ]
     },
     "execution_count": 4,
     "metadata": {},
     "output_type": "execute_result"
    }
   ],
   "source": [
    "# <: 演算子は「is a sub type of」（〜の子タイプである）を意味する\n",
    "\n",
    "## Integer は Number の子タイプか -> true\n",
    "Integer <: Number"
   ]
  },
  {
   "cell_type": "code",
   "execution_count": 5,
   "metadata": {},
   "outputs": [
    {
     "data": {
      "text/plain": [
       "false"
      ]
     },
     "execution_count": 5,
     "metadata": {},
     "output_type": "execute_result"
    }
   ],
   "source": [
    "# Integer は AbstractFloat の子タイプか -> false\n",
    "Integer <: AbstractFloat"
   ]
  },
  {
   "cell_type": "markdown",
   "metadata": {},
   "source": [
    "### 原始型（プリミティブ型）\n",
    "原始型は、データが普通のビットで構成される具象型である\n",
    "\n",
    "典型的な原始型は、整数や浮動小数点である\n",
    "\n",
    "#### 原始型の宣言\n",
    "Juliaでは、以下のような形式で原始型を独自に宣言することが可能である\n",
    "\n",
    "```julia\n",
    "# 親タイプのない原始型（Any型の子タイプとなる）\n",
    "primitive type 型名 ビット数 end\n",
    "\n",
    "# 親タイプのある原始型\n",
    "primitive type 型名 <: 親型名 ビット数 end\n",
    "```\n",
    "\n",
    "また、Juliaにおける全ての原始型は、以下のようにJulia自身によって定義されている\n",
    "\n",
    "```julia\n",
    "primitive type Float16 <: AbstractFloat 16 end\n",
    "primitive type Float32 <: AbstractFloat 32 end\n",
    "primitive type Float64 <: AbstractFloat 64 end\n",
    "\n",
    "primitive type Bool    <: Integer 8 end\n",
    "primitive type Char 32 end\n",
    "\n",
    "primitive type Int8    <: Signed   8   end\n",
    "primitive type UInt8   <: Unsigned 8   end\n",
    "primitive type Int16   <: Signed   16  end\n",
    "primitive type UInt16  <: Unsigned 16  end\n",
    "primitive type Int32   <: Signed   32  end\n",
    "primitive type UInt32  <: Unsigned 32  end\n",
    "primitive type Int64   <: Signed   64  end\n",
    "primitive type UInt64  <: Unsigned 64  end\n",
    "primitive type Int128  <: Signed   128 end\n",
    "primitive type UInt128 <: Unsigned 128 end\n",
    "```\n",
    "\n",
    "抽象型、原始型を合わせて数値型の階層構造を見ると、以下のようになっている\n",
    "\n",
    "```\n",
    "                              Any\n",
    "                               |\n",
    "               ---------------------------------\n",
    "               |                               |\n",
    "             Number                            |\n",
    "               |                               |\n",
    "              Real                             |\n",
    "               |                               |\n",
    "       -----------------------------           |\n",
    "       |                           |           |\n",
    "    Integer                        |           |\n",
    "       |                           |           |\n",
    " ------------------                |           |\n",
    " |                |                |           |\n",
    " |          ------------           |           |\n",
    " |          |          |           |           |\n",
    " |       Signed      Unsigned  AbstractFloat   |\n",
    " |          |          |           |           |\n",
    "Union{}  Union{}     Union{}    Union{}      Union{}\n",
    " |          |_ Int8    |_ UInt8    |           |\n",
    " |          |_ Int16   |_ UInt16   |           |\n",
    " |          |_ Int32   |_ UInt32   |_ Float16  |\n",
    " |          |_ Int64   |_ UInt64   |_ Float32  |\n",
    " |_ Bool    |_ Int128  |_ UInt128  |_ Float64  |_ Char\n",
    "```"
   ]
  },
  {
   "cell_type": "markdown",
   "metadata": {},
   "source": [
    "### 複合型\n",
    "複合型は、名前付きフィールドの集合体であり、言語によっては、レコード、構造体、オブジェクトなどとも呼ばれる\n",
    "\n",
    "C++, Java, Python, Rubyなどの主流なオブジェクト指向言語では、複合型に名前付きの関数（メソッド）や変数（メンバ、フィールド）が関連付けられて「オブジェクト」と呼ばれる\n",
    "\n",
    "Juliaでは、全ての値がオブジェクトに関連付けられるが、関数は操作対象のオブジェクトに関連付けられない\n",
    "\n",
    "これは、各オブジェクトの\"内側\"にたくさんの名前付き関数を入れるよりも、メソッド群を編成して関数オブジェクトにする方が、言語設計上有益であるという思想に根ざしている\n",
    "\n",
    "- 主流なオブジェクト指向言語\n",
    "    ```\n",
    "    Object1       Object2\n",
    "      |_ Member1    |_ Member1\n",
    "      |_ Member2    |_ Member2\n",
    "      :    :        :    :\n",
    "      |_ Method1    |_ Method1\n",
    "      |_ Method2    |_ Method2\n",
    "      :    :        :    :\n",
    "    ```\n",
    "- Julia\n",
    "    ```\n",
    "    Object1      Object2     FunctionObject\n",
    "      |_ Field1    |_ Field1      |_ Method1\n",
    "      |_ Field2    |_ Field2      |_ Method2\n",
    "      :    :       :    :         :     :\n",
    "    ```\n",
    "\n",
    "#### 複合型の定義\n",
    "複合型は以下のような形式で定義できる\n",
    "\n",
    "```julia\n",
    "struct 型名\n",
    "    フィールド名1 # <- 型注釈のないフィールドは Any型になる\n",
    "    フィールド名2 :: 型名2\n",
    "end\n",
    "```"
   ]
  },
  {
   "cell_type": "code",
   "execution_count": 6,
   "metadata": {},
   "outputs": [
    {
     "data": {
      "text/plain": [
       "Human(\"Yoya\", 31)"
      ]
     },
     "execution_count": 6,
     "metadata": {},
     "output_type": "execute_result"
    }
   ],
   "source": [
    "# 複合型 Human型を定義\n",
    "struct Human\n",
    "    name::String\n",
    "    age::Int\n",
    "end\n",
    "\n",
    "# 複合型は関数のように呼び出し、型のインスタンスを新しく生成することができる\n",
    "## これをコンストラクタと呼ぶ\n",
    "human = Human(\"Yoya\", 31)"
   ]
  },
  {
   "cell_type": "code",
   "execution_count": 7,
   "metadata": {},
   "outputs": [
    {
     "data": {
      "text/plain": [
       "(:name, :age)"
      ]
     },
     "execution_count": 7,
     "metadata": {},
     "output_type": "execute_result"
    }
   ],
   "source": [
    "# fieldnames関数を用いて 複合型のフィールド名を列挙することができる\n",
    "## fieldnames関数は、複合型を引数に取るため\n",
    "## fieldnames(human) のように インスタンスを渡してもエラーになる\n",
    "fieldnames(Human)"
   ]
  },
  {
   "cell_type": "code",
   "execution_count": 8,
   "metadata": {},
   "outputs": [
    {
     "name": "stdout",
     "output_type": "stream",
     "text": [
      "Yoya\n",
      "31\n"
     ]
    }
   ],
   "source": [
    "# フィールドへアクセスするには instance.field 記法を使う\n",
    "## フィールドはシンボルとして定義されているため\n",
    "## instance[:field] と書けそうだが、この書き方はできない\n",
    "println(human.name)\n",
    "println(human.age)"
   ]
  },
  {
   "cell_type": "code",
   "execution_count": 9,
   "metadata": {},
   "outputs": [
    {
     "ename": "ErrorException",
     "evalue": "setfield! immutable struct of type Human cannot be changed",
     "output_type": "error",
     "traceback": [
      "setfield! immutable struct of type Human cannot be changed",
      "",
      "Stacktrace:",
      " [1] setproperty!(::Human, ::Symbol, ::Int64) at ./sysimg.jl:19",
      " [2] top-level scope at In[9]:1"
     ]
    }
   ],
   "source": [
    "# 複合型オブジェクトは不変であり、生成後に値を変更することはできない\n",
    "human.age = 120"
   ]
  },
  {
   "cell_type": "code",
   "execution_count": 10,
   "metadata": {},
   "outputs": [
    {
     "name": "stdout",
     "output_type": "stream",
     "text": [
      "MutableHuman(\"Yoya\", 120)\n"
     ]
    }
   ],
   "source": [
    "# 可変複合型を定義する場合は、mutable struct を使う\n",
    "mutable struct MutableHuman\n",
    "    name::String\n",
    "    age::Int\n",
    "end\n",
    "\n",
    "human = MutableHuman(\"Yoya\", 31)\n",
    "\n",
    "human.age = 120\n",
    "println(human)"
   ]
  },
  {
   "cell_type": "markdown",
   "metadata": {},
   "source": [
    "### 宣言型\n",
    "抽象型、原始型、複合型には以下のような共通点がある\n",
    "\n",
    "- 明示的に宣言される\n",
    "- 名前がある\n",
    "- 親タイプが存在する\n",
    "- パラメータを持つことができる\n",
    "\n",
    "これらの特徴を持つ型は、**宣言型**と呼ばれ、内部的には `DataType`のインスタンスとして表現される\n",
    "\n",
    "システムにおけるあらゆる型は、`DataType`のインスタンスであるため、何らかの型のインスタンスである全ての値は、何らかの`DataType`のインスタンスであると言える"
   ]
  },
  {
   "cell_type": "code",
   "execution_count": 11,
   "metadata": {},
   "outputs": [
    {
     "data": {
      "text/plain": [
       "DataType"
      ]
     },
     "execution_count": 11,
     "metadata": {},
     "output_type": "execute_result"
    }
   ],
   "source": [
    "typeof(Int)"
   ]
  },
  {
   "cell_type": "markdown",
   "metadata": {},
   "source": [
    "### 合併型\n",
    "合併型は特殊な抽象型で、指定されたいずれかの型のインスタンスをオブジェクトとして含む\n",
    "\n",
    "例として、以下のようにして定義された合併型 `IntOrString` は、整数型もしくは文字列型の値のみを取り得る\n",
    "\n",
    "```julia\n",
    "# IntOrString合併型 = Int | AbstractString\n",
    "IntOrString = Union{Int, AbstractString}\n",
    "\n",
    "1 :: IntOrString # -> 1\n",
    "\"1\" :: IntOrString # -> \"1\"\n",
    "1.0 :: IntOrString # -> Error\n",
    "```\n",
    "\n",
    "\n",
    "### パラメトリック型\n",
    "パラメトリック型は、パラメータをもつ型であり、パラメータに指定された型の組み合わせの分だけ新しい型の一族を導入することができる\n",
    "\n",
    "これにより、型の汎用性を無制限に上げることができる\n",
    "\n",
    "#### パラメトリック複合型\n",
    "パラメトリック型の例として、一番わかり易いのはパラメトリック複合型である\n",
    "\n",
    "以下は、任意の型 `T` のフィールド x, y を持つ複合型 `Point` を定義している\n",
    "\n",
    "```julia\n",
    "struct Point{T}\n",
    "    x::T\n",
    "    y::T\n",
    "end\n",
    "```\n",
    "\n",
    "上記の `Point` 型は、それ単体では型としてインスタンス化することはできず、型パラメータを指定する必要がある\n",
    "\n",
    "例えば、Int型の x, y フィールドを持つ Point型を定義したい場合は、`Point{Int}`のように記述する\n",
    "\n",
    "このようにすることで、異なる型をフィールドに持つ複合型を好きなように定義することが可能となる\n",
    "\n",
    "#### パラメトリック抽象型\n",
    "複合型同様、抽象型にもパラメータを付与することができる\n",
    "\n",
    "```julia\n",
    "abstract type 型名 {型パラメータ名} end\n",
    "```\n",
    "\n",
    "パラメトリック抽象型には、インスタンスが型`T`のみの特殊な抽象型である **シングルトン型** というものがある\n",
    "\n",
    "これは `Type{T}` によって定義される\n",
    "\n",
    "```julia\n",
    "# Float64シングルトン型は Float64型のみをインスタンスとして持つ\n",
    "\n",
    "## Float64型は Float64シングルトン型のインスタンスか -> true\n",
    "isa(Float64, Type{Floa64})\n",
    "\n",
    "## Real型は Float64シングルトン型のインスタンスか -> false\n",
    "isa(Real, Type{Floa64})\n",
    "```\n",
    "\n",
    "#### パラメトリック原始型\n",
    "同様に、原始型にもパラメータを付与することができる\n",
    "\n",
    "```julia\n",
    "# 32-bit system:\n",
    "primitive type Ptr{T} 32 end\n",
    "\n",
    "# 64-bit system:\n",
    "primitive type Ptr{T} 64 end\n",
    "```\n",
    "\n",
    "\n",
    "### タプル型\n",
    "タプル型は、関数の引数部分のみを抜き出した型である\n",
    "\n",
    "その特徴は、順序と型が対応しているということである\n",
    "\n",
    "そのため、タプル型は、複数パラメータを持つパラメトリック複合型によく似ている\n",
    "\n",
    "例えば、2要素のタプル型は、以下のようなパラメトリック複合型に似ている\n",
    "\n",
    "```julia\n",
    "struct Tuple2{A, B}\n",
    "    a::A\n",
    "    b::B\n",
    "end\n",
    "```\n",
    "\n",
    "ただし、タプル型とパラメトリック複合型には明確な違いが3つある\n",
    "\n",
    "1. タプル型は任意の数のパラメータを持つことができる\n",
    "2. タプル型は、そのパラメータと共変である\n",
    "    - 例えば Int型は Any型の子タイプであるため、Any型と共変（置き換え可能）である\n",
    "    - タプル型 `Tuple{Int}` は、Int型の親タイプである Any型をパラメータに持つ `Tuple{Any}` と共変（置き換え可能）である\n",
    "    - 一方で、パラメトリック複合型 `Point{Int}` は、`Point{Any}` に置き換えることができない（不変である）\n",
    "3. タプル型にはフィールド名がなく、インデックスによってのみアクセスできる\n",
    "\n",
    "タプル型は、タプルの値が宣言された時点で、新しいタプル型が生成される"
   ]
  },
  {
   "cell_type": "code",
   "execution_count": 12,
   "metadata": {},
   "outputs": [
    {
     "data": {
      "text/plain": [
       "Tuple{Int64,String,Float64}"
      ]
     },
     "execution_count": 12,
     "metadata": {},
     "output_type": "execute_result"
    }
   ],
   "source": [
    "# 以下のタプル値が宣言されたタイミングで\n",
    "## Tuple{Int64,String,Float64} 型が新たに生成される\n",
    "\n",
    "tuple = (1, \"foo\", 3.14)\n",
    "typeof(tuple)"
   ]
  },
  {
   "cell_type": "code",
   "execution_count": 13,
   "metadata": {},
   "outputs": [
    {
     "name": "stdout",
     "output_type": "stream",
     "text": [
      "パラメトリック複合型\n",
      "false\n",
      "true\n",
      "false\n",
      "\n",
      "シングルトン型\n",
      "false\n",
      "true\n",
      "\n",
      "タプル型\n",
      "true\n",
      "false\n"
     ]
    }
   ],
   "source": [
    "# -- パラメトリック複合型は不変 --\n",
    "struct Point{T}\n",
    "    x::T\n",
    "    y::T\n",
    "end\n",
    "\n",
    "println(\"パラメトリック複合型\")\n",
    "\n",
    "# Int <: Real -> true だが\n",
    "## Point{Int} <: Point{Real} -> false\n",
    "println(Point{Int} <: Point{Real})\n",
    "\n",
    "# Point{Int} のインスタンスの型のみが唯一 Point{Int} の子タイプである\n",
    "println(typeof(Point(10, 20)) <: Point{Int})\n",
    "\n",
    "# Point{Int} のインスタンスは、Point{Real} のインスタンスではない\n",
    "println(isa(Point(10, 20), Point{Real}))\n",
    "\n",
    "\n",
    "# -- シングルトン型も不変 --\n",
    "println(\"\\nシングルトン型\")\n",
    "\n",
    "# Type{Int}シングルトン型 のインスタンスは Int型のみ\n",
    "## パラメトリック複合型と異なり\n",
    "## Type{Int}シングルトン型は、Int型の親タイプではない\n",
    "println(Int <: Type{Int}) # -> false\n",
    "println(isa(Int, Type{Int})) # -> true\n",
    "\n",
    "\n",
    "# -- Tuple型はパラメータと共変 --\n",
    "println(\"\\nタプル型\")\n",
    "\n",
    "# Int <: Real -> true より\n",
    "## Tuple{Int} <: Tuple{Real} -> true\n",
    "println(Tuple{Int} <: Tuple{Real})\n",
    "\n",
    "# Int <: AbstractString -> false より\n",
    "## Tuple{Int, Int} <: Tuple{Real, AbstractString} -> false\n",
    "println(Tuple{Int, Int} <: Tuple{Real, AbstractString})"
   ]
  },
  {
   "cell_type": "markdown",
   "metadata": {},
   "source": [
    "#### 可変引数タプル型\n",
    "タプル型の最後のパラメータは、特殊な可変引数型 `Vararg{}` として任意の数の皇族の要素を示すことができる\n",
    "\n",
    "`Vararg{T}`は、0個以上の型`T`に対応する"
   ]
  },
  {
   "cell_type": "code",
   "execution_count": 14,
   "metadata": {},
   "outputs": [
    {
     "data": {
      "text/plain": [
       "Tuple{AbstractString,Vararg{Int64,N} where N}"
      ]
     },
     "execution_count": 14,
     "metadata": {},
     "output_type": "execute_result"
    }
   ],
   "source": [
    "# 文字列型の後ろに任意の数のInt型が続くタプル型\n",
    "vatuple = Tuple{AbstractString, Vararg{Int}}"
   ]
  },
  {
   "cell_type": "code",
   "execution_count": 15,
   "metadata": {},
   "outputs": [
    {
     "name": "stdout",
     "output_type": "stream",
     "text": [
      "false\n",
      "true\n",
      "true\n",
      "false\n"
     ]
    }
   ],
   "source": [
    "# 文字列のみのタプル -> false\n",
    "println(isa((\"1\"), vatuple))\n",
    "\n",
    "# 文字列の後ろに0個のInt値がある -> true\n",
    "println(isa((\"1\", ), vatuple))\n",
    "\n",
    "# 文字列の後ろに2個のInt値がある -> true\n",
    "println(isa((\"1\", 1, 2), vatuple))\n",
    "\n",
    "# 文字列の後ろに1個のFloat64値がある -> false\n",
    "println(isa((\"1\", 3.14), vatuple))"
   ]
  },
  {
   "cell_type": "markdown",
   "metadata": {},
   "source": [
    "### 全合併型\n",
    "`Ptr{T}` のようなパラメトリック型は、全てのインスタンス型（`Ptr{Int64}` など）の親タイプのように振る舞う\n",
    "\n",
    "しかし、`Ptr`自体は、参照するデータの種類がわからなければ、その型を記憶操作に使用することができない\n",
    "\n",
    "これを実現するために、パラメトリック型のような型は、あるパラメータを全ての値に対して繰り返し合併した型を表現する\n",
    "\n",
    "そのため、このような型を **全合併型** と呼ぶ\n",
    "\n",
    "#### 全合併型の型宣言\n",
    "全合併型であることを明示するためには `where` キーワードを使う\n",
    "\n",
    "```julia\n",
    "# -- 例 --\n",
    "\n",
    "# パラメトリック複合型\n",
    "## パラメータ T をフィールド x, y に対して繰り返し合併する\n",
    "struct Point{T} where T\n",
    "    x::T\n",
    "    y::T\n",
    "end\n",
    "\n",
    "# パラメトリック抽象型\n",
    "## パラメータ T, N を型に対してネストして繰り返し合併する\n",
    "abstract type Array{T, N} where T where N end\n",
    "```"
   ]
  },
  {
   "cell_type": "code",
   "execution_count": 16,
   "metadata": {},
   "outputs": [
    {
     "name": "stdout",
     "output_type": "stream",
     "text": [
      "Array{Float64,N} where N\n",
      "Array{T,2} where T\n"
     ]
    }
   ],
   "source": [
    "# -- 部分インスタンス化 --\n",
    "\n",
    "# 複数パラメータはネストして繰り返し合併されるため、部分的に適用することが可能\n",
    "## -> A{B, C} と A{B}{C} は等価\n",
    "\n",
    "# 例: N次元のFloat64型配列\n",
    "## -> Array{Float64, N} where N と等価\n",
    "const FloatArray = Array{Float64}\n",
    "println(FloatArray)\n",
    "\n",
    "# 例: 全ての2次元の配列\n",
    "const Array2D = Array{T, 2} where T\n",
    "println(Array2D)"
   ]
  },
  {
   "cell_type": "code",
   "execution_count": null,
   "metadata": {},
   "outputs": [],
   "source": []
  }
 ],
 "metadata": {
  "kernelspec": {
   "display_name": "Julia 1.1.1",
   "language": "julia",
   "name": "julia-1.1"
  },
  "language_info": {
   "file_extension": ".jl",
   "mimetype": "application/julia",
   "name": "julia",
   "version": "1.1.1"
  }
 },
 "nbformat": 4,
 "nbformat_minor": 2
}
