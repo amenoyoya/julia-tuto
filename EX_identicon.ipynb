{
 "cells": [
  {
   "cell_type": "code",
   "execution_count": 1,
   "metadata": {},
   "outputs": [
    {
     "data": {
      "image/svg+xml": [
       "<?xml version=\"1.0\" encoding=\"UTF-8\"?>\n",
       "<!DOCTYPE svg PUBLIC \"-//W3C//DTD SVG 1.1//EN\"\n",
       " \"http://www.w3.org/Graphics/SVG/1.1/DTD/svg11.dtd\">\n",
       "<svg xmlns=\"http://www.w3.org/2000/svg\" version=\"1.1\"\n",
       "     width=\"25mm\" height=\"25mm\" viewBox=\"0 0 1 1\">\n",
       "     <rect width=\"1\" height=\"1\"\n",
       "           fill=\"#000000\" stroke=\"none\"/>\n",
       "</svg>\n"
      ],
      "text/plain": [
       "Gray{Float64}(0.0)"
      ]
     },
     "execution_count": 1,
     "metadata": {},
     "output_type": "execute_result"
    }
   ],
   "source": [
    "using Images\n",
    "\n",
    "Gray(0.0) # black"
   ]
  },
  {
   "cell_type": "code",
   "execution_count": 2,
   "metadata": {},
   "outputs": [
    {
     "data": {
      "image/svg+xml": [
       "<?xml version=\"1.0\" encoding=\"UTF-8\"?>\n",
       "<!DOCTYPE svg PUBLIC \"-//W3C//DTD SVG 1.1//EN\"\n",
       " \"http://www.w3.org/Graphics/SVG/1.1/DTD/svg11.dtd\">\n",
       "<svg xmlns=\"http://www.w3.org/2000/svg\" version=\"1.1\"\n",
       "     width=\"25mm\" height=\"25mm\" viewBox=\"0 0 1 1\">\n",
       "     <rect width=\"1\" height=\"1\"\n",
       "           fill=\"#0000FF\" stroke=\"none\"/>\n",
       "</svg>\n"
      ],
      "text/plain": [
       "RGB{Float64}(0.0,0.0,1.0)"
      ]
     },
     "execution_count": 2,
     "metadata": {},
     "output_type": "execute_result"
    }
   ],
   "source": [
    "RGB(0.0, 0.0, 1.0) # blue"
   ]
  },
  {
   "cell_type": "code",
   "execution_count": 3,
   "metadata": {},
   "outputs": [
    {
     "data": {
      "image/png": "[encoded data removed]",
      "text/plain": [
       "2×2 Array{RGB{Float64},2} with eltype RGB{Float64}:\n",
       " RGB{Float64}(0.100003,0.927832,0.232283)  …  RGB{Float64}(0.283867,0.646982,0.634267)\n",
       " RGB{Float64}(0.376011,0.794729,0.991696)     RGB{Float64}(0.567884,0.162178,0.410143)"
      ]
     },
     "execution_count": 3,
     "metadata": {},
     "output_type": "execute_result"
    }
   ],
   "source": [
    "# Images, ImageMagickパッケージを使っている場合、Array{RGB{Float64}}はRGBピクセルを表示する\n",
    "img_rgb = rand(RGB, 2, 2)"
   ]
  },
  {
   "cell_type": "code",
   "execution_count": 4,
   "metadata": {},
   "outputs": [
    {
     "name": "stdout",
     "output_type": "stream",
     "text": [
      "RGB{Float64}[RGB{Float64}(0.10000313095874658,0.9278317451505178,0.23228300203572694) RGB{Float64}(0.2838668672332705,0.6469824930853749,0.6342671207898019); RGB{Float64}(0.3760109349394056,0.7947292306946403,0.9916955559397769) RGB{Float64}(0.5678844927729461,0.16217825386510998,0.4101427704397178)]\n"
     ]
    }
   ],
   "source": [
    "println(img_rgb)"
   ]
  },
  {
   "cell_type": "markdown",
   "metadata": {},
   "source": [
    "## Identiconの生成\n",
    "\n",
    "参考: [GitHubのIdenticonの生成と取得](https://qiita.com/pira/items/dd4057ef499154968f69#%E3%83%97%E3%83%AD%E3%83%95%E3%82%A3%E3%83%BC%E3%83%AB%E7%94%BB%E5%83%8F%E3%81%AE%E6%88%BB%E3%81%97%E6%96%B9)\n",
    "\n",
    "### Identiconとは\n",
    "GitHubアカウントを作成したときにプロフィール画像になってるドット絵アイコン\n",
    "\n",
    "自分のIdenticonは https://github.com/identicons/<username>.png から確認できる\n",
    "\n",
    "![amenoyoya.png](https://github.com/identicons/amenoyoya.png)\n",
    "\n",
    "### Identiconの生成方法\n",
    "GitHubのBlogにIdenticonの生成に関する記事があるようである\n",
    "\n",
    "[Identicons!](https://github.com/blog/1586-identicons) - The GitHub Blog\n",
    "\n",
    "記事によると、Identiconは5x5のピクセルで、ユーザーIDのハッシュ値を元に以下のように生成されているそうである\n",
    "\n",
    "- ハッシュ値が偶数か奇数かで各ピクセルのon/offを決定してパターンを生成\n",
    "- Identiconの色も同様にハッシュ値に依存して決定している\n",
    "    - これによって多数のユニークなIdenticonsを保証している\n",
    "\n",
    "### Identiconを生成\n",
    "\n",
    "#### ハッシュ値の生成\n",
    "ユーザーIDをMD5に変換する\n",
    "\n",
    "なお、GitHubのユーザ名からユーザIDを取得するには、[Find GitHub User ID](https://caius.github.io/github_id/) を使うと良い\n",
    "\n",
    "ユーザーIDをMD5に変換すると、128bit（16進数で32桁）のハッシュ値が得られる\n",
    "\n",
    "ex) 46098475 -> da9701f509fd65331303f9382088b168\n",
    "\n",
    "#### パターンの決定\n",
    "パターンは以下のように、5x5のピクセルから成る\n",
    "\n",
    "![identicon00.png](./img/identicon00.png)\n",
    "\n",
    "ハッシュ値の前から15文字を使って以下のようにパターンを決定する\n",
    "\n",
    "- ハッシュ値が偶数ならピクセルをON，奇数ならピクセルをOFFにする\n",
    "- 順番は真ん中の列の上から下、その右の列の上から下、最後に右端の列の上から下の順とする\n",
    "\n",
    "ex) da9701f509fd65331303f9382088b168 -> da9701f509fd653\n",
    "\n",
    "![identicon01.png](./img/identicon01.png)\n",
    "\n",
    "以下のように、真ん中の列を中心に線対称に折り返す\n",
    "\n",
    "![identicon02.png](./img/identicon02.png)\n",
    "\n",
    "これでパターンが完成する\n",
    "\n",
    "#### 色の決定\n",
    "ハッシュ値の最後の7文字を使って色を決定する\n",
    "\n",
    "色はHSL色空間で表現されており、色相3文字、彩度2文字、輝度2文字で決定する\n",
    "\n",
    "ex) da9701f509fd65331303f9382088b168 -> 088b168 -> 色相: 088, 彩度: b1, 輝度: 68\n",
    "\n",
    "各16進数を10進数に変換して各パラメータを決定する\n",
    "\n",
    "色相は0から360の範囲であるため、0(0x000)〜4095(0xfff)を0〜360の範囲に変換する\n",
    "\n",
    "同様に、彩度と輝度は、0(0x00)〜255(0xff)を0から100の範囲に変換する\n",
    "\n",
    "GitHubでは0〜255を0〜20の範囲に変換して、それぞれ65, 75から減算した値を使用している\n",
    "\n",
    "$$ \\begin{array}{ll}\n",
    "    色相: (cbc)_{10} \\times \\frac{360}{4095} &= 3260 \\times \\frac{360}{4095} \\\\\n",
    "                                             &= 287 \\\\\n",
    "    彩度: 65−(db)_{10} \\times \\frac{20}{255} &= 65−219 \\times \\frac{20}{255} \\\\\n",
    "                                             &= 48 \\\\\n",
    "    輝度: 75−(ac)_{10} \\times \\frac{20}{255} &= 75−172 \\times \\frac{20}{255}\n",
    "\\end{array} $$\n",
    "\n",
    "最後にHSL色空間からRGBへ変換し、Identiconの完成となる"
   ]
  },
  {
   "cell_type": "code",
   "execution_count": 20,
   "metadata": {},
   "outputs": [
    {
     "data": {
      "text/plain": [
       "\"da9701f509fd65331303f9382088b168\""
      ]
     },
     "execution_count": 20,
     "metadata": {},
     "output_type": "execute_result"
    }
   ],
   "source": [
    "# ハッシュ、暗号化ラッパーパッケージNettle利用\n",
    "using Nettle\n",
    "\n",
    "# GitHubユーザID\n",
    "myid = \"46098475\"\n",
    "\n",
    "# md5ハッシュ値算出\n",
    "md5 = hexdigest(\"md5\", myid)"
   ]
  },
  {
   "cell_type": "code",
   "execution_count": 21,
   "metadata": {},
   "outputs": [
    {
     "data": {
      "text/plain": [
       "15-element Array{Int64,1}:\n",
       " 13\n",
       " 10\n",
       "  9\n",
       "  7\n",
       "  0\n",
       "  1\n",
       " 15\n",
       "  5\n",
       "  0\n",
       "  9\n",
       " 15\n",
       " 13\n",
       "  6\n",
       "  5\n",
       "  3"
      ]
     },
     "execution_count": 21,
     "metadata": {},
     "output_type": "execute_result"
    }
   ],
   "source": [
    "# ハッシュ値の前から15文字を16進数→10進数に変換\n",
    "pat = [parse(Int, hash; base=16) for hash in md5[1:15]]"
   ]
  },
  {
   "cell_type": "code",
   "execution_count": 22,
   "metadata": {},
   "outputs": [
    {
     "data": {
      "text/plain": [
       "5×3 Array{Int64,2}:\n",
       " 13   1  15\n",
       " 10  15  13\n",
       "  9   5   6\n",
       "  7   0   5\n",
       "  0   9   3"
      ]
     },
     "execution_count": 22,
     "metadata": {},
     "output_type": "execute_result"
    }
   ],
   "source": [
    "# 5 x 3 Array{Int,2} に変形\n",
    "pat = reshape(pat, 5, 3)"
   ]
  },
  {
   "cell_type": "code",
   "execution_count": 23,
   "metadata": {},
   "outputs": [
    {
     "data": {
      "text/plain": [
       "5×3 Array{Int64,2}:\n",
       " 1  1  1\n",
       " 0  1  1\n",
       " 1  1  0\n",
       " 1  0  1\n",
       " 0  1  1"
      ]
     },
     "execution_count": 23,
     "metadata": {},
     "output_type": "execute_result"
    }
   ],
   "source": [
    "# ハッシュ値を偶数・奇数に変換: 0をONとする\n",
    "pat = pat .% 2"
   ]
  },
  {
   "cell_type": "code",
   "execution_count": 24,
   "metadata": {},
   "outputs": [
    {
     "data": {
      "text/plain": [
       "5×5 Array{Int64,2}:\n",
       " 1  1  1  1  1\n",
       " 1  1  0  1  1\n",
       " 0  1  1  1  0\n",
       " 1  0  1  0  1\n",
       " 1  1  0  1  1"
      ]
     },
     "execution_count": 24,
     "metadata": {},
     "output_type": "execute_result"
    }
   ],
   "source": [
    "# 行列を線対称にする\n",
    "## 水平結合: pat[3..2列目]のパターン + patのパターン\n",
    "pat = hcat(pat[:, 3:-1:2], pat)"
   ]
  },
  {
   "cell_type": "code",
   "execution_count": 25,
   "metadata": {},
   "outputs": [
    {
     "data": {
      "text/plain": [
       "136"
      ]
     },
     "execution_count": 25,
     "metadata": {},
     "output_type": "execute_result"
    }
   ],
   "source": [
    "\"\"\"\n",
    "色相の算出\n",
    "\"\"\"\n",
    "# ハッシュ値の後ろから7文字目の部分から3文字分を取得し、16進数→10進数に変換\n",
    "hue = md5[end-6:end-4]\n",
    "hue = parse(Int, hue; base=16)"
   ]
  },
  {
   "cell_type": "code",
   "execution_count": 11,
   "metadata": {},
   "outputs": [
    {
     "data": {
      "text/plain": [
       "11.956043956043956"
      ]
     },
     "execution_count": 11,
     "metadata": {},
     "output_type": "execute_result"
    }
   ],
   "source": [
    "# 色相 = (md[-7..-5])_10 * 360 / 4095\n",
    "hue = hue * 360 / 4095"
   ]
  },
  {
   "cell_type": "code",
   "execution_count": 12,
   "metadata": {},
   "outputs": [
    {
     "data": {
      "text/plain": [
       "51.11764705882353"
      ]
     },
     "execution_count": 12,
     "metadata": {},
     "output_type": "execute_result"
    }
   ],
   "source": [
    "# 彩度 = 65 - (md[-4..-3])_10 * 20 / 255\n",
    "saturation = 65 - parse(Int, md5[end-3:end-2]; base=16) * 20 / 255"
   ]
  },
  {
   "cell_type": "code",
   "execution_count": 13,
   "metadata": {},
   "outputs": [
    {
     "data": {
      "text/plain": [
       "66.84313725490196"
      ]
     },
     "execution_count": 13,
     "metadata": {},
     "output_type": "execute_result"
    }
   ],
   "source": [
    "# 輝度 = 75 - (md[-2..-1])_10 * 20 / 255\n",
    "luminance = 75 - parse(Int, md5[end-1:end]; base=16) * 20 / 255"
   ]
  },
  {
   "cell_type": "code",
   "execution_count": 14,
   "metadata": {},
   "outputs": [
    {
     "data": {
      "text/plain": [
       "hsv2rgb (generic function with 1 method)"
      ]
     },
     "execution_count": 14,
     "metadata": {},
     "output_type": "execute_result"
    }
   ],
   "source": [
    "# HSV→RGB変換関数\n",
    "## 色相, 彩度, 輝度 -> (R, G, B)::Tuple{Int,Int,Int}\n",
    "hsv2rgb(hue::Number, sat::Number, lum::Number)::Tuple{Int,Int,Int} = begin\n",
    "    max, min = if lum < 50\n",
    "        # 輝度が50未満の場合\n",
    "        2.55 * (lum + lum * (sat/100)),\n",
    "        2.55 * (lum - lum * (sat/100))\n",
    "    else\n",
    "        # 輝度が50以上の場合\n",
    "        2.55 * (lum + (100-lum) * (sat/100)),\n",
    "        2.55 * (lum - (100-lum) * (sat/100))\n",
    "    end\n",
    "    \n",
    "    # 色相ごとにRGB計算を分岐\n",
    "    r, g, b = if hue < 60\n",
    "        max, (hue/60) * (max-min) + min, min\n",
    "    elseif 60 <= hue < 120\n",
    "        ((120-hue)/60) * (max-min) + min, max, min\n",
    "    elseif 120 <= hue < 179\n",
    "        min, max, ((hue-120)/60) * (max-min) + min\n",
    "    elseif 180 <= hue < 240\n",
    "        min, ((240-hue)/60) * (max-min) + min, max\n",
    "    elseif 240 <= hue < 300\n",
    "        ((hue-240)/60) * (max-min) + min, min, max\n",
    "    else\n",
    "        max, min, ((360-hue)/60) * (max-min) + min\n",
    "    end\n",
    "    (Int(floor(r)), Int(floor(g)), Int(floor(b)))\n",
    "end"
   ]
  },
  {
   "cell_type": "code",
   "execution_count": 15,
   "metadata": {},
   "outputs": [
    {
     "data": {
      "text/plain": [
       "(213, 144, 127)"
      ]
     },
     "execution_count": 15,
     "metadata": {},
     "output_type": "execute_result"
    }
   ],
   "source": [
    "color = hsv2rgb(hue, saturation, luminance)"
   ]
  },
  {
   "cell_type": "code",
   "execution_count": 26,
   "metadata": {},
   "outputs": [
    {
     "data": {
      "image/png": "[encoded data removed]",
      "text/plain": [
       "5×5 Array{RGB{Any},2} with eltype RGB:\n",
       " RGB{Float64}(1.0,1.0,1.0)                 …  RGB{Float64}(1.0,1.0,1.0)               \n",
       " RGB{Float64}(1.0,1.0,1.0)                    RGB{Float64}(1.0,1.0,1.0)               \n",
       " RGB{Float64}(0.835294,0.564706,0.498039)     RGB{Float64}(0.835294,0.564706,0.498039)\n",
       " RGB{Float64}(1.0,1.0,1.0)                    RGB{Float64}(1.0,1.0,1.0)               \n",
       " RGB{Float64}(1.0,1.0,1.0)                    RGB{Float64}(1.0,1.0,1.0)               "
      ]
     },
     "execution_count": 26,
     "metadata": {},
     "output_type": "execute_result"
    }
   ],
   "source": [
    "# 作成したパターンのうち、0の部分を着色する\n",
    "image = zeros(RGB, size(pat)[1], size(pat)[2])\n",
    "\n",
    "for y in 1:size(pat)[1], x in 1:size(pat)[2]\n",
    "    image[y, x] = pat[y, x] == 0 ? RGB(color[1]/255, color[2]/255, color[3]/255) : RGB(1.0, 1.0, 1.0)\n",
    "end\n",
    "\n",
    "image"
   ]
  },
  {
   "cell_type": "code",
   "execution_count": 1,
   "metadata": {},
   "outputs": [
    {
     "data": {
      "text/plain": [
       "make_identicon (generic function with 1 method)"
      ]
     },
     "execution_count": 1,
     "metadata": {},
     "output_type": "execute_result"
    }
   ],
   "source": [
    "\"\"\"\n",
    "完成形\n",
    "\"\"\"\n",
    "\n",
    "using Nettle\n",
    "using Images\n",
    "\n",
    "# idからIdenticon生成\n",
    "make_identicon(id::String) = begin\n",
    "    md5 = hexdigest(\"md5\", id)\n",
    "    pat = [parse(Int, hash; base=16) for hash in md5[1:15]]\n",
    "    pat = reshape(pat .% 2, 5, 3)\n",
    "    pat = hcat(pat[:, 3:-1:2], pat)\n",
    "    hue = parse(Int, md5[end-6:end-4]; base=16) * 360 / 4095\n",
    "    sat = 65 - parse(Int, md5[end-3:end-2]; base=16) * 20 / 255\n",
    "    lum = 75 - parse(Int, md5[end-1:end]; base=16) * 20 / 255\n",
    "    \n",
    "    max, min = if lum < 50\n",
    "        2.55 * (lum + lum * (sat/100)),\n",
    "        2.55 * (lum - lum * (sat/100))\n",
    "    else\n",
    "        2.55 * (lum + (100-lum) * (sat/100)),\n",
    "        2.55 * (lum - (100-lum) * (sat/100))\n",
    "    end\n",
    "    \n",
    "    r, g, b = if hue < 60\n",
    "        max, (hue/60) * (max-min) + min, min\n",
    "    elseif 60 <= hue < 120\n",
    "        ((120-hue)/60) * (max-min) + min, max, min\n",
    "    elseif 120 <= hue < 179\n",
    "        min, max, ((hue-120)/60) * (max-min) + min\n",
    "    elseif 180 <= hue < 240\n",
    "        min, ((240-hue)/60) * (max-min) + min, max\n",
    "    elseif 240 <= hue < 300\n",
    "        ((hue-240)/60) * (max-min) + min, min, max\n",
    "    else\n",
    "        max, min, ((360-hue)/60) * (max-min) + min\n",
    "    end\n",
    "    \n",
    "    image = zeros(RGB, size(pat)[1], size(pat)[2])\n",
    "    for y in 1:size(pat)[1], x in 1:size(pat)[2]\n",
    "        image[y, x] = pat[y, x] == 0 ? RGB(r/255, g/255, b/255) : RGB(1.0, 1.0, 1.0)\n",
    "    end\n",
    "    image\n",
    "end"
   ]
  },
  {
   "cell_type": "code",
   "execution_count": 28,
   "metadata": {},
   "outputs": [
    {
     "data": {
      "image/png": "[encoded data removed]",
      "text/plain": [
       "5×5 Array{RGB{Any},2} with eltype RGB:\n",
       " RGB{Float64}(1.0,1.0,1.0)                 …  RGB{Float64}(1.0,1.0,1.0)               \n",
       " RGB{Float64}(1.0,1.0,1.0)                    RGB{Float64}(1.0,1.0,1.0)               \n",
       " RGB{Float64}(0.837921,0.566489,0.498941)     RGB{Float64}(0.837921,0.566489,0.498941)\n",
       " RGB{Float64}(1.0,1.0,1.0)                    RGB{Float64}(1.0,1.0,1.0)               \n",
       " RGB{Float64}(1.0,1.0,1.0)                    RGB{Float64}(1.0,1.0,1.0)               "
      ]
     },
     "execution_count": 28,
     "metadata": {},
     "output_type": "execute_result"
    }
   ],
   "source": [
    "make_identicon(\"46098475\")"
   ]
  },
  {
   "cell_type": "code",
   "execution_count": 29,
   "metadata": {},
   "outputs": [
    {
     "data": {
      "image/png": "[encoded data removed]",
      "text/plain": [
       "5×5 Array{RGB{Any},2} with eltype RGB:\n",
       " RGB{Float64}(1.0,1.0,1.0)                 …  RGB{Float64}(1.0,1.0,1.0)               \n",
       " RGB{Float64}(1.0,1.0,1.0)                    RGB{Float64}(1.0,1.0,1.0)               \n",
       " RGB{Float64}(1.0,1.0,1.0)                    RGB{Float64}(1.0,1.0,1.0)               \n",
       " RGB{Float64}(1.0,1.0,1.0)                    RGB{Float64}(1.0,1.0,1.0)               \n",
       " RGB{Float64}(0.716912,0.431024,0.799172)     RGB{Float64}(0.716912,0.431024,0.799172)"
      ]
     },
     "execution_count": 29,
     "metadata": {},
     "output_type": "execute_result"
    }
   ],
   "source": [
    "# 参考サイトのユーザID\n",
    "## 同一の画像が生成されるか確認\n",
    "make_identicon(\"19229051\")"
   ]
  },
  {
   "cell_type": "code",
   "execution_count": 2,
   "metadata": {},
   "outputs": [
    {
     "data": {
      "image/png": "[encoded data removed]",
      "text/plain": [
       "5×5 Array{RGB{Any},2} with eltype RGB:\n",
       " RGB{Float64}(0.803072,0.58958,0.398889)  …  RGB{Float64}(0.803072,0.58958,0.398889)\n",
       " RGB{Float64}(1.0,1.0,1.0)                   RGB{Float64}(1.0,1.0,1.0)              \n",
       " RGB{Float64}(1.0,1.0,1.0)                   RGB{Float64}(1.0,1.0,1.0)              \n",
       " RGB{Float64}(0.803072,0.58958,0.398889)     RGB{Float64}(0.803072,0.58958,0.398889)\n",
       " RGB{Float64}(0.803072,0.58958,0.398889)     RGB{Float64}(0.803072,0.58958,0.398889)"
      ]
     },
     "execution_count": 2,
     "metadata": {},
     "output_type": "execute_result"
    }
   ],
   "source": [
    "make_identicon(\"amenoyoya\")"
   ]
  },
  {
   "cell_type": "code",
   "execution_count": 22,
   "metadata": {},
   "outputs": [
    {
     "data": {
      "image/png": "[encoded data removed]",
      "text/plain": [
       "5×5 Array{RGB{Float64},2} with eltype RGB{Float64}:\n",
       " RGB{Float64}(1.0,1.0,0.398889)            …  RGB{Float64}(1.0,1.0,0.398889)          \n",
       " RGB{Float64}(1.0,1.0,1.0)                    RGB{Float64}(1.0,1.0,1.0)               \n",
       " RGB{Float64}(0.837921,0.566489,0.498941)     RGB{Float64}(0.837921,0.566489,0.498941)\n",
       " RGB{Float64}(1.0,1.0,0.398889)               RGB{Float64}(1.0,1.0,0.398889)          \n",
       " RGB{Float64}(1.0,1.0,0.398889)               RGB{Float64}(1.0,1.0,0.398889)          "
      ]
     },
     "execution_count": 22,
     "metadata": {},
     "output_type": "execute_result"
    }
   ],
   "source": [
    "idimg = make_identicon(\"46098475\")\n",
    "nameimg = make_identicon(\"amenoyoya\")\n",
    "\n",
    "overlay(a::Float64, b::Float64)::Float64 =\n",
    "    a < 0.5 ? a * b : 2 * (a + b - a * b) - 1.0\n",
    "\n",
    "overlay(a::RGB{Float64}, b::RGB{Float64})::RGB{Float64} = RGB(\n",
    "    overlay(a.r, b.r), overlay(a.g, b.g), overlay(a.b, b.b)\n",
    ")\n",
    "\n",
    "blend(a::RGB{Float64}, b::RGB{Float64})::RGB{Float64} = RGB(a.r * b.r, a.g * b.g, a.b * b.b)\n",
    "\n",
    "overlay.(nameimg, idimg) |> a -> blend.(a, idimg)"
   ]
  },
  {
   "cell_type": "markdown",
   "metadata": {},
   "source": [
    "# ドット絵変換処理\n",
    "\n",
    "## ドット化\n",
    "\n",
    "基本的に縮小すれば（低解像度化すれば）ドット絵っぽくはなる\n",
    "\n",
    "## 減色\n",
    "\n",
    "### k-means法\n",
    "k-means法は、以下のような処理を、代表色が変化しなくなるまで繰り返す減色方法である\n",
    "\n",
    "1. ランダムにN個の代表色を選択する\n",
    "2. 画像のそれぞれのピクセルについて、一番近い代表色を選んで、全ピクセルをN個のグループに分割する\n",
    "    - 色の近さは $(R_1 - R_2)^2 + (G_1 - G_2)^2 + (B_1 - B_2)^2$ という、3次元ベクトル空間上の距離で計算することができる\n",
    "3. それぞれのグループの平均色（R, G, Bそれぞれの平均値を取った色）を新たな代表色とする\n",
    "4. 新しい代表色を用いて、再度 2. の処理を行う"
   ]
  },
  {
   "cell_type": "code",
   "execution_count": 6,
   "metadata": {},
   "outputs": [
    {
     "name": "stderr",
     "output_type": "stream",
     "text": [
      "┌ Info: Precompiling ImageView [86fae568-95e7-573e-a6b2-d8a6b900c9ef]\n",
      "└ @ Base loading.jl:1242\n"
     ]
    },
    {
     "data": {
      "text/plain": [
       "(500, 500)"
      ]
     },
     "execution_count": 6,
     "metadata": {},
     "output_type": "execute_result"
    }
   ],
   "source": [
    "using Images, ImageView\n",
    "\n",
    "img = load(\"./img/mono_20191110_face.png\")\n",
    "imshow(img)\n",
    "w, h = size(img)"
   ]
  },
  {
   "cell_type": "code",
   "execution_count": 12,
   "metadata": {},
   "outputs": [
    {
     "data": {
      "image/png": "[encoded data removed]",
      "text/plain": [
       "48×48 Array{RGBA{N0f8},2} with eltype RGBA{Normed{UInt8,8}}:\n",
       " RGBA{N0f8}(0.0,0.0,0.0,0.0)  …  RGBA{N0f8}(0.0,0.0,0.0,0.0)\n",
       " RGBA{N0f8}(0.0,0.0,0.0,0.0)     RGBA{N0f8}(0.0,0.0,0.0,0.0)\n",
       " RGBA{N0f8}(0.0,0.0,0.0,0.0)     RGBA{N0f8}(0.0,0.0,0.0,0.0)\n",
       " RGBA{N0f8}(0.0,0.0,0.0,0.0)     RGBA{N0f8}(0.0,0.0,0.0,0.0)\n",
       " RGBA{N0f8}(0.0,0.0,0.0,0.0)     RGBA{N0f8}(0.0,0.0,0.0,0.0)\n",
       " RGBA{N0f8}(0.0,0.0,0.0,0.0)  …  RGBA{N0f8}(0.0,0.0,0.0,0.0)\n",
       " RGBA{N0f8}(0.0,0.0,0.0,0.0)     RGBA{N0f8}(0.0,0.0,0.0,0.0)\n",
       " RGBA{N0f8}(0.0,0.0,0.0,0.0)     RGBA{N0f8}(0.0,0.0,0.0,0.0)\n",
       " RGBA{N0f8}(0.0,0.0,0.0,0.0)     RGBA{N0f8}(0.0,0.0,0.0,0.0)\n",
       " RGBA{N0f8}(0.0,0.0,0.0,0.0)     RGBA{N0f8}(0.0,0.0,0.0,0.0)\n",
       " RGBA{N0f8}(0.0,0.0,0.0,0.0)  …  RGBA{N0f8}(0.0,0.0,0.0,0.0)\n",
       " RGBA{N0f8}(0.0,0.0,0.0,0.0)     RGBA{N0f8}(0.0,0.0,0.0,0.0)\n",
       " RGBA{N0f8}(0.0,0.0,0.0,0.0)     RGBA{N0f8}(0.0,0.0,0.0,0.0)\n",
       " ⋮                            ⋱                             \n",
       " RGBA{N0f8}(0.0,0.0,0.0,0.0)     RGBA{N0f8}(0.0,0.0,0.0,0.0)\n",
       " RGBA{N0f8}(0.0,0.0,0.0,0.0)     RGBA{N0f8}(0.0,0.0,0.0,0.0)\n",
       " RGBA{N0f8}(0.0,0.0,0.0,0.0)     RGBA{N0f8}(0.0,0.0,0.0,0.0)\n",
       " RGBA{N0f8}(0.0,0.0,0.0,0.0)     RGBA{N0f8}(0.0,0.0,0.0,0.0)\n",
       " RGBA{N0f8}(0.0,0.0,0.0,0.0)  …  RGBA{N0f8}(0.0,0.0,0.0,0.0)\n",
       " RGBA{N0f8}(0.0,0.0,0.0,0.0)     RGBA{N0f8}(0.0,0.0,0.0,0.0)\n",
       " RGBA{N0f8}(0.0,0.0,0.0,0.0)     RGBA{N0f8}(0.0,0.0,0.0,0.0)\n",
       " RGBA{N0f8}(0.0,0.0,0.0,0.0)     RGBA{N0f8}(0.0,0.0,0.0,0.0)\n",
       " RGBA{N0f8}(0.0,0.0,0.0,0.0)     RGBA{N0f8}(0.0,0.0,0.0,0.0)\n",
       " RGBA{N0f8}(0.0,0.0,0.0,0.0)  …  RGBA{N0f8}(0.0,0.0,0.0,0.0)\n",
       " RGBA{N0f8}(0.0,0.0,0.0,0.0)     RGBA{N0f8}(0.0,0.0,0.0,0.0)\n",
       " RGBA{N0f8}(0.0,0.0,0.0,0.0)     RGBA{N0f8}(0.0,0.0,0.0,0.0)"
      ]
     },
     "execution_count": 12,
     "metadata": {},
     "output_type": "execute_result"
    }
   ],
   "source": [
    "\"\"\"\n",
    "48 x 48 ビット絵に変換する\n",
    "\"\"\"\n",
    "# 48 x 48 に縮小\n",
    "dot = imresize(img, (48, 48))"
   ]
  },
  {
   "cell_type": "code",
   "execution_count": 23,
   "metadata": {},
   "outputs": [
    {
     "data": {
      "text/plain": [
       "48×48 Array{Int64,2}:\n",
       " 1  1  1  1  1   1   1   1  1  1   1  1  …    1    1  1  1  1  1  1  1  1  1\n",
       " 1  1  1  1  1   1   1   1  1  1   1  1       1    1  1  1  1  1  1  1  1  1\n",
       " 1  1  1  1  1   1   1   1  1  1   1  1       1    1  1  1  1  1  1  1  1  1\n",
       " 1  1  1  1  1   1   1   1  1  1   1  1       1    1  1  1  1  1  1  1  1  1\n",
       " 1  1  1  1  1   1   1   1  1  1   1  1       1    1  1  1  1  1  1  1  1  1\n",
       " 1  1  1  1  1   1   1   1  1  1  21  3  …    1    1  1  1  1  1  1  1  1  1\n",
       " 1  1  1  1  1   1   1  15  3  5   5  5       1    1  1  1  1  1  1  1  1  1\n",
       " 1  1  1  1  1   1  12   5  5  3  22  1       1    1  1  1  1  1  1  1  1  1\n",
       " 1  1  1  1  1  10   5   3  1  1   1  1       1    1  1  1  1  1  1  1  1  1\n",
       " 1  1  1  1  1   5   3   1  1  1   1  1       1    1  1  1  1  1  1  1  1  1\n",
       " 1  1  1  1  3   3   1   1  1  1   1  1  …    1    1  1  1  1  1  1  1  1  1\n",
       " 1  1  1  1  5   1   1   1  1  1   1  1       1    1  1  1  1  1  1  1  1  1\n",
       " 1  1  1  2  3   1   1   1  1  1   1  1       1    1  1  1  1  1  1  1  1  1\n",
       " ⋮               ⋮                 ⋮     ⋱            ⋮              ⋮      \n",
       " 1  1  1  1  1   1   1   1  1  1   1  1       1    1  1  1  1  1  1  1  1  1\n",
       " 1  1  1  1  1   1   1   1  1  1   1  1       1    1  1  1  1  1  1  1  1  1\n",
       " 1  1  1  1  1   1   1   1  1  1   1  1       1    1  1  1  1  1  1  1  1  1\n",
       " 1  1  1  1  1   1   1   1  1  1   1  1       1    1  1  1  1  1  1  1  1  1\n",
       " 1  1  1  1  1   1   1   1  1  1   1  1  …    1    1  1  1  1  1  1  1  1  1\n",
       " 1  1  1  1  1   1   1   1  1  1   1  1       1    1  1  1  1  1  1  1  1  1\n",
       " 1  1  1  1  1   1   1   1  1  1   1  1       1    1  1  1  1  1  1  1  1  1\n",
       " 1  1  1  1  1   1   1   1  1  1   1  1       1    1  1  1  1  1  1  1  1  1\n",
       " 1  1  1  1  1   1   1   1  1  1   1  1       1    1  1  1  1  1  1  1  1  1\n",
       " 1  1  1  1  1   1   1   1  1  1   1  1  …  153    1  1  1  1  1  1  1  1  1\n",
       " 1  1  1  1  1   1   1   1  1  1   1  1       3    1  1  1  1  1  1  1  1  1\n",
       " 1  1  1  1  1   1   1   1  1  1   1  1       5  154  1  1  1  1  1  1  1  1"
      ]
     },
     "execution_count": 23,
     "metadata": {},
     "output_type": "execute_result"
    }
   ],
   "source": [
    "map = fill(0, 48, 48)\n",
    "pallet = []\n",
    "\n",
    "# ドット絵をマッピング\n",
    "for y in 1:size(dot, 1)\n",
    "    for x in 1:size(dot, 2)\n",
    "        indexes = findall(pallet .== dot[x, y])\n",
    "        map[x, y] = if length(indexes) === 0\n",
    "            push!(pallet, dot[x, y])\n",
    "            length(pallet)\n",
    "        else\n",
    "            indexes[1]\n",
    "        end\n",
    "    end\n",
    "end\n",
    "\n",
    "map"
   ]
  },
  {
   "cell_type": "code",
   "execution_count": 24,
   "metadata": {},
   "outputs": [
    {
     "data": {
      "text/plain": [
       "154-element Array{Any,1}:\n",
       " RGBA{N0f8}(0.0,0.0,0.0,0.0)        \n",
       " RGBA{N0f8}(0.38,0.38,0.38,0.765)   \n",
       " RGBA{N0f8}(0.4,0.4,0.4,1.0)        \n",
       " RGBA{N0f8}(0.4,0.4,0.4,0.992)      \n",
       " RGBA{N0f8}(0.247,0.247,0.247,1.0)  \n",
       " RGBA{N0f8}(0.333,0.333,0.333,0.62) \n",
       " RGBA{N0f8}(0.255,0.255,0.255,0.188)\n",
       " RGBA{N0f8}(0.4,0.4,0.4,0.722)      \n",
       " RGBA{N0f8}(0.259,0.259,0.259,1.0)  \n",
       " RGBA{N0f8}(0.4,0.4,0.4,0.863)      \n",
       " RGBA{N0f8}(0.169,0.169,0.169,0.129)\n",
       " RGBA{N0f8}(0.4,0.4,0.4,0.847)      \n",
       " RGBA{N0f8}(0.271,0.271,0.271,1.0)  \n",
       " ⋮                                  \n",
       " RGBA{N0f8}(0.4,0.4,0.4,0.431)      \n",
       " RGBA{N0f8}(0.357,0.357,0.357,1.0)  \n",
       " RGBA{N0f8}(0.282,0.282,0.282,1.0)  \n",
       " RGBA{N0f8}(0.388,0.388,0.388,0.875)\n",
       " RGBA{N0f8}(0.075,0.075,0.075,0.024)\n",
       " RGBA{N0f8}(0.361,0.361,0.361,1.0)  \n",
       " RGBA{N0f8}(0.18,0.18,0.18,0.306)   \n",
       " RGBA{N0f8}(0.404,0.404,0.404,0.596)\n",
       " RGBA{N0f8}(0.184,0.184,0.184,0.459)\n",
       " RGBA{N0f8}(0.188,0.188,0.188,0.106)\n",
       " RGBA{N0f8}(0.082,0.082,0.082,0.067)\n",
       " RGBA{N0f8}(0.392,0.392,0.392,0.384)"
      ]
     },
     "execution_count": 24,
     "metadata": {},
     "output_type": "execute_result"
    }
   ],
   "source": [
    "pallet"
   ]
  },
  {
   "cell_type": "markdown",
   "metadata": {},
   "source": [
    "上記のように 154色あるので、16色になるまで k-means法で減色する"
   ]
  },
  {
   "cell_type": "code",
   "execution_count": null,
   "metadata": {},
   "outputs": [],
   "source": []
  }
 ],
 "metadata": {
  "kernelspec": {
   "display_name": "Julia 1.2.0",
   "language": "julia",
   "name": "julia-1.2"
  },
  "language_info": {
   "file_extension": ".jl",
   "mimetype": "application/julia",
   "name": "julia",
   "version": "1.2.0"
  }
 },
 "nbformat": 4,
 "nbformat_minor": 2
}
