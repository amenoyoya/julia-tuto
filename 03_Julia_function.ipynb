{
 "cells": [
  {
   "cell_type": "markdown",
   "metadata": {},
   "source": [
    "## 関数\n",
    "\n",
    "- **関数**\n",
    "    - 複数の値を受け取り、戻り値を返すオブジェクト\n",
    "    - Juliaにおける関数はグローバルな状態に影響を受け得るため、純粋に数学的な関数ではない\n",
    "- 参照透過性\n",
    "    - 同じ引数を受け取ったら必ず同じ戻り値を返すという性質\n",
    "    - プログラムの見通しを良くするためには、グローバルな状態に影響されない純粋な関数を定義するべきである\n",
    "\n",
    "### 関数の定義\n",
    "Juliaでは、単一の式を定義する方法と、`function`キーワードを用いて複数の式を手続き的に処理する関数を定義する方法がある\n",
    "\n",
    "ただし、プログラムは **そのコードの意図をシンプルに記述する** ことが望ましいため、基本的には単一式の関数定義を用いるべきである"
   ]
  },
  {
   "cell_type": "code",
   "execution_count": 1,
   "metadata": {},
   "outputs": [
    {
     "name": "stdout",
     "output_type": "stream",
     "text": [
      "3\n",
      "9 と 8 を足すよ！\n",
      "答えは 17 だね！\n",
      "17\n"
     ]
    }
   ],
   "source": [
    "# 2つの引数 x, y を受け取って、その合計値を返す関数\n",
    "\n",
    "## 代入方式（単一の式を定義）\n",
    "f(x, y) = x + y\n",
    "\n",
    "## 関数呼び出し\n",
    "println(f(1, 2)) # f(1, 2) = 1 + 2 -> 3\n",
    "\n",
    "## 複数の手続きを定義する関数\n",
    "### メッセージを出力してから 合計値を返す\n",
    "function g(x, y)\n",
    "    println(\"$x と $y を足すよ！\")\n",
    "    println(\"答えは $(x + y) だね！\")\n",
    "    x + y\n",
    "end\n",
    "\n",
    "println(g(9, 8))"
   ]
  },
  {
   "cell_type": "code",
   "execution_count": 4,
   "metadata": {},
   "outputs": [
    {
     "name": "stdout",
     "output_type": "stream",
     "text": [
      "100 と 23 を足すよ！\n",
      "答えは 123 だね！\n"
     ]
    },
    {
     "data": {
      "text/plain": [
       "123"
      ]
     },
     "execution_count": 4,
     "metadata": {},
     "output_type": "execute_result"
    }
   ],
   "source": [
    "# コードの意図\n",
    "\n",
    "# 上記のg関数は、メッセージの出力2回と足し算処理1回という3つの処理を行っている\n",
    "## -> 意図が明確ではない\n",
    "## -> 良いコードを書くためには、その関数が何を目的としているのか記述することが重要\n",
    "\n",
    "# ---\n",
    "\n",
    "# 自己記述的でシンプル・明確なコード\n",
    "\n",
    "## 2つの引数 x, y の足し算を行う関数\n",
    "add(x, y) = x + y\n",
    "\n",
    "## 2つの引数 x, y の足し算を行うことをメッセージとして出力する関数\n",
    "printMessageForAdding(x, y) = println(\"$x と $y を足すよ！\")\n",
    "\n",
    "## 引数 x が答えであることをメッセージとして出力する関数\n",
    "printMessageForAnswer(x) = println(\"答えは $x だね！\")\n",
    "\n",
    "## 上記関数を一連の処理として実行\n",
    "main = begin\n",
    "    x = 100\n",
    "    y = 23\n",
    "    printMessageForAdding(x, y)\n",
    "    a = add(x, y)\n",
    "    printMessageForAnswer(a)\n",
    "    a\n",
    "end"
   ]
  },
  {
   "cell_type": "code",
   "execution_count": 6,
   "metadata": {},
   "outputs": [
    {
     "name": "stdout",
     "output_type": "stream",
     "text": [
      "100 と 23 を足すよ！\n",
      "答えは 123 だね！\n"
     ]
    },
    {
     "data": {
      "text/plain": [
       "123"
      ]
     },
     "execution_count": 6,
     "metadata": {},
     "output_type": "execute_result"
    }
   ],
   "source": [
    "# 複合式\n",
    "\n",
    "# 上記のように begin ... end で複数の式を手続き的に処理できる\n",
    "## -> (式1; 式2; ...) とも記述できる\n",
    "\n",
    "main = (\n",
    "    x = 100;\n",
    "    y = 23;\n",
    "    printMessageForAdding(x, y);\n",
    "    a = add(x, y);\n",
    "    printMessageForAnswer(a);\n",
    "    a\n",
    ")"
   ]
  },
  {
   "cell_type": "code",
   "execution_count": 8,
   "metadata": {},
   "outputs": [
    {
     "name": "stdout",
     "output_type": "stream",
     "text": [
      "10\n",
      "1000\n"
     ]
    }
   ],
   "source": [
    "# 参照透過性について\n",
    "\n",
    "## グローバルな状態に影響を受ける関数は、バグを生み出しやすい\n",
    "\n",
    "# -- 悪い例 --\n",
    "state = 1 # グローバル状態: 1\n",
    "\n",
    "## xにグローバル状態を掛ける関数\n",
    "f(x) = x * state\n",
    "\n",
    "## 呼び出す\n",
    "println(f(10)) # (10) = 10 * 1 -> 10\n",
    "\n",
    "## 誰かがグローバル状態を変更\n",
    "state = 100\n",
    "\n",
    "## f()呼び出し: 前回と同じように 10 が返ってくることを期待\n",
    "println(f(10)) # グローバル状態が変わっているため 1000 が返ってしまう"
   ]
  },
  {
   "cell_type": "code",
   "execution_count": 9,
   "metadata": {},
   "outputs": [
    {
     "name": "stdout",
     "output_type": "stream",
     "text": [
      "10\n",
      "10\n"
     ]
    }
   ],
   "source": [
    "# -- 参照透過的な例 --\n",
    "\n",
    "## x と y を掛ける関数\n",
    "mul(x, y) = x * y\n",
    "\n",
    "## mul関数は、同じ引数を渡せば必ず同じ結果が返ってくる\n",
    "### -> バグが発生しにくい\n",
    "\n",
    "println(mul(10, 1)) # (10, 1) = 10 * 1 -> 10\n",
    "\n",
    "# 上記と同じ結果を期待すれば同じ結果が返ってくる\n",
    "println(mul(10, 1)) # (10, 1) = 10 * 1 -> 10"
   ]
  },
  {
   "cell_type": "markdown",
   "metadata": {},
   "source": [
    "### return キーワード\n",
    "\n",
    "Juliaにおいて **関数の戻り値は、その関数内で最後に評価された式の結果** となる\n",
    "\n",
    "この挙動を変えたい場合は `return` キーワードを使うことで、戻り値を明示することができる\n",
    "\n",
    "なお、 `return`された時点でその関数の評価は終わるため、それ以降の処理は実行されない"
   ]
  },
  {
   "cell_type": "code",
   "execution_count": 10,
   "metadata": {},
   "outputs": [
    {
     "data": {
      "text/plain": [
       "5"
      ]
     },
     "execution_count": 10,
     "metadata": {},
     "output_type": "execute_result"
    }
   ],
   "source": [
    "function g(x, y)\n",
    "    x * y\n",
    "    x + y # <- 最後に評価される x + y の結果が返る\n",
    "end\n",
    "\n",
    "g(2, 3) # (2, 3) = 2 + 3 -> 5"
   ]
  },
  {
   "cell_type": "code",
   "execution_count": 11,
   "metadata": {},
   "outputs": [
    {
     "data": {
      "text/plain": [
       "6"
      ]
     },
     "execution_count": 11,
     "metadata": {},
     "output_type": "execute_result"
    }
   ],
   "source": [
    "function g(x, y)\n",
    "    return x * y # <- ここで評価終了: x * y の結果が返る\n",
    "    x + y # <- この式は評価されない\n",
    "end\n",
    "\n",
    "g(2, 3) # (2, 3) = 2 * 3 -> 6"
   ]
  },
  {
   "cell_type": "markdown",
   "metadata": {},
   "source": [
    "### 関数として定義されている演算子\n",
    "Juliaにおいて、`&&`や`||`のような短絡評価演算子以外は、全て関数として定義されている\n",
    "\n",
    "例えば `+`演算子は、2つの引数を加算した値を返す関数である\n",
    "\n",
    "これらの演算子は、その演算子の直前と直後の値を引数に取る関数であるため、**中置記法関数**と呼ばれる"
   ]
  },
  {
   "cell_type": "code",
   "execution_count": 12,
   "metadata": {},
   "outputs": [
    {
     "name": "stdout",
     "output_type": "stream",
     "text": [
      "6\n",
      "6\n"
     ]
    }
   ],
   "source": [
    "# 中置記法関数としての `+`\n",
    "println(1 + 2 + 3) # -> 6\n",
    "\n",
    "# `+` は、通常の関数と同じ呼び出し方もできる\n",
    "println(+(1, 2, 3)) # -> 6"
   ]
  },
  {
   "cell_type": "code",
   "execution_count": 14,
   "metadata": {},
   "outputs": [
    {
     "data": {
      "text/plain": [
       "9"
      ]
     },
     "execution_count": 14,
     "metadata": {},
     "output_type": "execute_result"
    }
   ],
   "source": [
    "# 他の名前の関数としても定義することは可能だが、中置記法には対応していない\n",
    "sub = -\n",
    "\n",
    "# OK: 10 - 1 -> 9\n",
    "sub(10, 1)"
   ]
  },
  {
   "cell_type": "code",
   "execution_count": 15,
   "metadata": {},
   "outputs": [
    {
     "ename": "LoadError",
     "evalue": "syntax: extra token \"sub\" after end of expression",
     "output_type": "error",
     "traceback": [
      "syntax: extra token \"sub\" after end of expression",
      ""
     ]
    }
   ],
   "source": [
    "# 中置記法はNG\n",
    "10 sub 1"
   ]
  },
  {
   "cell_type": "markdown",
   "metadata": {},
   "source": [
    "### 無名関数\n",
    "Juliaにおいて、関数は第一級オブジェクトである\n",
    "\n",
    "- 関数は、変数に代入したり、代入した変数から標準的な構文で呼び出すことが可能\n",
    "- 関数の引数としても、戻り値としても関数を使うことができる\n",
    "- 名前をつけずに無名で生成することもできる（無名関数）"
   ]
  },
  {
   "cell_type": "code",
   "execution_count": 16,
   "metadata": {},
   "outputs": [
    {
     "data": {
      "text/plain": [
       "#3 (generic function with 1 method)"
      ]
     },
     "execution_count": 16,
     "metadata": {},
     "output_type": "execute_result"
    }
   ],
   "source": [
    "x -> x^2 + 2x - 1"
   ]
  },
  {
   "cell_type": "code",
   "execution_count": 17,
   "metadata": {},
   "outputs": [
    {
     "data": {
      "text/plain": [
       "#5 (generic function with 1 method)"
      ]
     },
     "execution_count": 17,
     "metadata": {},
     "output_type": "execute_result"
    }
   ],
   "source": [
    "function (x)\n",
    "    x^2 + 2x - 1\n",
    "end"
   ]
  },
  {
   "cell_type": "code",
   "execution_count": 18,
   "metadata": {},
   "outputs": [
    {
     "data": {
      "text/plain": [
       "3-element Array{Int64,1}:\n",
       " 1\n",
       " 4\n",
       " 9"
      ]
     },
     "execution_count": 18,
     "metadata": {},
     "output_type": "execute_result"
    }
   ],
   "source": [
    "# 無名関数は主に別の関数を引数とする関数に渡すために使用される\n",
    "\n",
    "# 例: map関数: 配列の各要素に対して渡された関数を適用する関数\n",
    "## 配列 [1, 2, 3] の各要素を二乗する\n",
    "map(x -> x^2, [1, 2, 3])"
   ]
  },
  {
   "cell_type": "markdown",
   "metadata": {},
   "source": [
    "### 複数の戻り値\n",
    "Juliaの関数は一つの値しか返さない\n",
    "\n",
    "しかし、タプル（別の型を入れることのできる配列）を使うことで擬似的に複数の値を返すことができる\n",
    "\n",
    "Juliaのタプルはカッコを使わずに生成・分解が可能なため、見た目上は複数の戻り値を扱っているように見える"
   ]
  },
  {
   "cell_type": "code",
   "execution_count": 20,
   "metadata": {},
   "outputs": [
    {
     "name": "stdout",
     "output_type": "stream",
     "text": [
      "(3, -1)\n",
      "3\n",
      "-1\n"
     ]
    }
   ],
   "source": [
    "# (a+b, a-b)というタプルを返す関数\n",
    "add_sub(a, b) = a + b, a - b\n",
    "\n",
    "# 以下の戻り値は (3, -1) というタプルになる\n",
    "x = add_sub(1, 2)\n",
    "println(x)\n",
    "\n",
    "# カンマ区切りでタプルの分解が可能なため、次のように書くことも可能\n",
    "added, subed = add_sub(1, 2)\n",
    "println(added) # -> 3\n",
    "println(subed) # -> -1"
   ]
  },
  {
   "cell_type": "code",
   "execution_count": null,
   "metadata": {},
   "outputs": [],
   "source": []
  }
 ],
 "metadata": {
  "kernelspec": {
   "display_name": "Julia 1.1.1",
   "language": "julia",
   "name": "julia-1.1"
  },
  "language_info": {
   "file_extension": ".jl",
   "mimetype": "application/julia",
   "name": "julia",
   "version": "1.1.1"
  }
 },
 "nbformat": 4,
 "nbformat_minor": 2
}
