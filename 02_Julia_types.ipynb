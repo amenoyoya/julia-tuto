{
 "cells": [
  {
   "cell_type": "markdown",
   "metadata": {},
   "source": [
    "# Julia入門\n",
    "\n",
    "## 複素数と有理数\n",
    "\n",
    "### 複素数\n",
    "グローバル定数`im`は`√-1`を示す\n",
    "\n",
    "複素数を使って全ての標準的な算術処理が可能"
   ]
  },
  {
   "cell_type": "code",
   "execution_count": 1,
   "metadata": {},
   "outputs": [
    {
     "name": "stdout",
     "output_type": "stream",
     "text": [
      "1 + 2im\n",
      "8 + 1im\n",
      "-3 - 4im\n"
     ]
    }
   ],
   "source": [
    "println(1 + 2im)\n",
    "println((1 + 2im) * (2 - 3im))\n",
    "println((-1 + 2im)^2)"
   ]
  },
  {
   "cell_type": "code",
   "execution_count": 2,
   "metadata": {},
   "outputs": [
    {
     "name": "stdout",
     "output_type": "stream",
     "text": [
      "1\n",
      "2\n",
      "1 - 2im\n",
      "2.23606797749979\n",
      "5\n",
      "1.1071487177940904\n"
     ]
    }
   ],
   "source": [
    "z = 1 + 2im\n",
    "\n",
    "# 実数部を取得 -> 1\n",
    "println(real(z))\n",
    "\n",
    "# 複素数部を取得 -> 2\n",
    "println(imag(z))\n",
    "\n",
    "# 複素共役を取得 -> 1 - 2im\n",
    "println(conj(z))\n",
    "\n",
    "# 絶対値を取得\n",
    "## |(1 + 2im)| = √(1 + 2im)^2 = √5 = 2.236...\n",
    "println(abs(z))\n",
    "\n",
    "# 絶対値の二乗を取得 -> 5\n",
    "println(abs2(z))\n",
    "\n",
    "# 位相角をラジアンで取得 -> 1.107...\n",
    "println(angle(z))"
   ]
  },
  {
   "cell_type": "markdown",
   "metadata": {},
   "source": [
    "### 有理数\n",
    "\n",
    "Juliaには、整数の正確な比率を表すために有理数型がある\n",
    "\n",
    "有理数は`//`演算子で構成される\n",
    "\n",
    "例えば、`2/3`を浮動小数点で表すと`0.666...`となるため、これに3を掛けると`1.999...`という計算結果を得る（2にならない）\n",
    "\n",
    "一方で、有理数型`2//3`に3を掛けると正確に`2`という計算結果を得ることができる"
   ]
  },
  {
   "cell_type": "code",
   "execution_count": 3,
   "metadata": {},
   "outputs": [
    {
     "name": "stdout",
     "output_type": "stream",
     "text": [
      "0.6666666666666666\n",
      "2.0\n",
      "2//3\n",
      "2//1\n"
     ]
    }
   ],
   "source": [
    "f = 2 / 3\n",
    "println(f) # -> 0.666...\n",
    "println(f * 3) # -> 1.999... ~ 2.0\n",
    "\n",
    "r = 2 // 3\n",
    "println(r) # -> 2//3\n",
    "println(r * 3) # -> 2//1"
   ]
  },
  {
   "cell_type": "code",
   "execution_count": 4,
   "metadata": {},
   "outputs": [
    {
     "name": "stdout",
     "output_type": "stream",
     "text": [
      "2//3\n",
      "true\n",
      "2\n",
      "3\n"
     ]
    }
   ],
   "source": [
    "# 有理数は約分されて保持される\n",
    "println(6 // 9) # -> 2//3\n",
    "println(-4 // -12 == 1 // 3) # -> 1//3 == 1//3 -> true\n",
    "\n",
    "# 分子を得る\n",
    "println(numerator(2//3)) # -> 2\n",
    "\n",
    "# 分母を得る\n",
    "println(denominator(2//3)) # -> 3"
   ]
  },
  {
   "cell_type": "code",
   "execution_count": null,
   "metadata": {},
   "outputs": [],
   "source": []
  }
 ],
 "metadata": {
  "kernelspec": {
   "display_name": "Julia 1.1.1",
   "language": "julia",
   "name": "julia-1.1"
  },
  "language_info": {
   "file_extension": ".jl",
   "mimetype": "application/julia",
   "name": "julia",
   "version": "1.1.1"
  }
 },
 "nbformat": 4,
 "nbformat_minor": 2
}
