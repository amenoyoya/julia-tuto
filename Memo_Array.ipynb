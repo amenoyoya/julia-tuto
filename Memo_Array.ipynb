{
 "cells": [
  {
   "cell_type": "markdown",
   "metadata": {},
   "source": [
    "# Juliaにおける配列・行列関連操作まとめ\n",
    "\n",
    "## 配列\n",
    "\n",
    "### 一次元配列\n",
    "Juliaにおいて、配列とは一次元配列であり、`[要素, 要素, ...]` のように `,` 区切りで表現される\n",
    "\n",
    "なお、一次元配列とは列ベクトルを表しているため注意が必要"
   ]
  },
  {
   "cell_type": "code",
   "execution_count": 1,
   "metadata": {},
   "outputs": [
    {
     "data": {
      "text/plain": [
       "3-element Array{Int64,1}:\n",
       " 1\n",
       " 3\n",
       " 4"
      ]
     },
     "execution_count": 1,
     "metadata": {},
     "output_type": "execute_result"
    }
   ],
   "source": [
    "[1, 3, 4]"
   ]
  },
  {
   "cell_type": "markdown",
   "metadata": {},
   "source": [
    "### 固定長配列の作成\n",
    "固定長配列の作成方法は以下のようにいくつか用意されている\n",
    "\n",
    "- Array型のコンストラクタ: `Array{型, 1}(undef, 要素数)` or `Vector{型}(undef, 要素数)`\n",
    "    - 要素数分、任意の値で埋めた配列が生成される\n",
    "- zeros: `zeros([型,] 要素数)`\n",
    "    - 要素数分 0 で埋めた配列が生成される\n",
    "- ones: `ones([型,] 要素数)`\n",
    "    - 要素数分 1 で埋めた配列が生成される\n",
    "- fill: `fill(要素, 要素数)`\n",
    "    - 要素数分、指定要素で埋めた配列が生成される"
   ]
  },
  {
   "cell_type": "code",
   "execution_count": 7,
   "metadata": {},
   "outputs": [
    {
     "name": "stdout",
     "output_type": "stream",
     "text": [
      "a: Array{Float64,1} [6.9521683573046e-310, 6.95216837715025e-310, 6.95216837715737e-310]\n",
      "z: Array{Float64,1} [0.0, 0.0]\n",
      "o: Array{Float64,1} [1.0, 1.0, 1.0, 1.0]\n",
      "f: Array{Float64,1} [1.23, 1.23, 1.23, 1.23, 1.23]\n"
     ]
    }
   ],
   "source": [
    "a = Array{Float64, 1}(undef, 3)\n",
    "println(\"a: $(typeof(a)) $(a)\")\n",
    "\n",
    "z = zeros(2)\n",
    "println(\"z: $(typeof(z)) $(z)\")\n",
    "\n",
    "o = ones(4)\n",
    "println(\"o: $(typeof(o)) $(o)\")\n",
    "\n",
    "f = fill(1.23, 5)\n",
    "println(\"f: $(typeof(f)) $(f)\")"
   ]
  },
  {
   "cell_type": "code",
   "execution_count": 12,
   "metadata": {},
   "outputs": [
    {
     "name": "stdout",
     "output_type": "stream",
     "text": [
      "a: Array{Int64,1} [1, 2, 3]\n",
      "b: Array{Int64,1} [1, 3, 5]\n",
      "c: Array{Int64,1} [1, 3, 5]\n",
      "d: Array{Int64,1} [1, 3, 5]\n",
      "e: Array{String,1} [\"1\", \"2\", \"Fizz\", \"4\", \"Buzz\", \"Fizz\", \"7\", \"8\", \"Fizz\", \"Buzz\", \"11\", \"Fizz\", \"13\", \"14\", \"Fizz Buzz\"]\n"
     ]
    }
   ],
   "source": [
    "\"\"\"\n",
    "連番、等差数列の作成\n",
    "\"\"\"\n",
    "# start:end\n",
    "a = Vector{Int}(1:3) # = Array{Int,1}(1:3)\n",
    "println(\"a: $(typeof(a)) $(a)\")\n",
    "\n",
    "# start:step:end\n",
    "b = Vector(1:2:5)\n",
    "println(\"b: $(typeof(b)) $(b)\")\n",
    "\n",
    "# リスト表記も可能（末尾の ; を忘れないように）\n",
    "c = [1:2:5;]\n",
    "println(\"c: $(typeof(c)) $(c)\")\n",
    "\n",
    "# collect関数\n",
    "d = collect(1:2:5)\n",
    "println(\"d: $(typeof(d)) $(d)\")\n",
    "\n",
    "# リスト内包表記\n",
    "e = [\n",
    "    if v % 15 === 0\n",
    "        \"Fizz Buzz\"\n",
    "    elseif v % 5 === 0\n",
    "        \"Buzz\"\n",
    "    elseif v % 3 === 0\n",
    "        \"Fizz\"\n",
    "    else\n",
    "        string(v)\n",
    "    end\n",
    "    for v in 1:15]\n",
    "println(\"e: $(typeof(e)) $(e)\")"
   ]
  },
  {
   "cell_type": "markdown",
   "metadata": {},
   "source": [
    "## 行列\n",
    "\n",
    "### 二次元配列\n",
    "一次元以上の配列もまた、一次元配列と同様の方法で作成できる\n",
    "\n",
    "ただし、各要素（列）は空白で区切り、行を追加するなら `;` または 改行 を使う"
   ]
  },
  {
   "cell_type": "code",
   "execution_count": 14,
   "metadata": {},
   "outputs": [
    {
     "name": "stdout",
     "output_type": "stream",
     "text": [
      "a: 1×3 Array{Int64,2} [1 3 4]\n"
     ]
    }
   ],
   "source": [
    "a = [1 3 4]\n",
    "println(\"a: $(size(a,1))×$(size(a,2)) $(typeof(a)) $(a)\")\n",
    "\n",
    "b = [1 2; 3 4]\n",
    "println(\"b: $(size(b,1))×$(size(b,2)) $(typeof(b)) $(b)\")\n",
    "\n",
    "c = [1 2\n",
    "    3 4]\n",
    "println(\"c: $(size(c,1))×$(size(c,2)) $(typeof(c)) $(c)\")"
   ]
  },
  {
   "cell_type": "code",
   "execution_count": 15,
   "metadata": {},
   "outputs": [
    {
     "name": "stdout",
     "output_type": "stream",
     "text": [
      "b: 3×1 Array{Int64,2} [1; 2; 3]\n",
      "c: 3×2 Array{Int64,2} [1 4; 2 5; 3 6]\n",
      "d: 3×2 Array{Int64,2} [1 4; 2 5; 3 6]\n"
     ]
    }
   ],
   "source": [
    "\"\"\"\n",
    "ベクトル（一次元配列）から行列（二次元配列）に変換\n",
    "\"\"\"\n",
    "a = Vector(1:3) # 一次元配列 [1, 2, 3]\n",
    "\n",
    "# 軸追加による行列化\n",
    "b = a[:, :]\n",
    "println(\"b: $(size(b,1))×$(size(b,2)) $(typeof(b)) $(b)\")\n",
    "\n",
    "# 列を追加することによる行列化\n",
    "c = [a Vector(4:6)]\n",
    "println(\"c: $(size(c,1))×$(size(c,2)) $(typeof(c)) $(c)\")\n",
    "\n",
    "## 列の追加＝水平結合のため hcat でも可\n",
    "d = hcat(a, Vector(4:6))\n",
    "println(\"d: $(size(d,1))×$(size(d,2)) $(typeof(d)) $(d)\")"
   ]
  },
  {
   "cell_type": "markdown",
   "metadata": {},
   "source": [
    "## 要素アクセス\n",
    "\n",
    "N次元配列（テンソル）へのアクセスは以下のように添字で行う\n",
    "\n",
    "```\n",
    "tensor[1次元目のindex, 2次元目のindex, ..., N次元目のindex]\n",
    "```\n",
    "\n",
    "なお特殊な添字として `end` は、配列の最後の要素を示す"
   ]
  },
  {
   "cell_type": "code",
   "execution_count": 20,
   "metadata": {},
   "outputs": [
    {
     "name": "stdout",
     "output_type": "stream",
     "text": [
      "a[2]: 3\n",
      "a[end]: 5\n",
      "b[2,3]: 6\n",
      "b[1, 2:3]: [2, 3]\n",
      "b[:, 3]: [3, 6]\n"
     ]
    }
   ],
   "source": [
    "a = [1:2:5;] # => [1, 3, 5]\n",
    "\n",
    "# 2(列目)の要素にアクセス\n",
    "println(\"a[2]: $(a[2])\")\n",
    "\n",
    "# 最後の要素にアクセス\n",
    "println(\"a[end]: $(a[end])\")\n",
    "\n",
    "b = [1 2 3; 4 5 6]\n",
    "\n",
    "# 2行目, 3列目 の要素にアクセス\n",
    "println(\"b[2,3]: $(b[2,3])\")\n",
    "\n",
    "# 1行目の2〜3列目の要素にアクセス\n",
    "println(\"b[1, 2:3]: $(b[1, 2:3])\")\n",
    "\n",
    "# 3列目のすべての要素にアクセス\n",
    "println(\"b[:, 3]: $(b[:, 3])\")"
   ]
  },
  {
   "cell_type": "code",
   "execution_count": 25,
   "metadata": {},
   "outputs": [
    {
     "name": "stdout",
     "output_type": "stream",
     "text": [
      "even: [4, 10]\n",
      "indexes: [1, 3]\n",
      "odd: [1, 7]\n"
     ]
    }
   ],
   "source": [
    "\"\"\"\n",
    "要素検索\n",
    "\"\"\"\n",
    "# [1, 4, 7, 10]\n",
    "a = [1:3:10;]\n",
    "\n",
    "# 特定条件の要素を検索することができる\n",
    "## 各演算子は、ドット(.)演算子を使い、テンソルの各要素に対する演算に変換する必要がある\n",
    "even = a[a .% 2 .=== 0] # 偶数のみ検索\n",
    "println(\"even: $(even)\")\n",
    "\n",
    "# 特定条件の要素のindexは、findall で検索することができる\n",
    "indexes = findall(a .% 2 .=== 1) # 奇数の要素のindexを取得\n",
    "println(\"indexes: $(indexes)\")\n",
    "\n",
    "# index配列を添字にしても要素を取得できる\n",
    "odd = a[indexes]\n",
    "println(\"odd: $(odd)\")"
   ]
  },
  {
   "cell_type": "markdown",
   "metadata": {},
   "source": [
    "## テンソルの変形\n",
    "\n",
    "### 次元変形\n",
    "次元変形は、次元数の合計を変更せずに各次元数を変更することである\n",
    "\n",
    "次元変形には、`reshape`関数を使う\n",
    "\n",
    "これにより、例えば、1×6の行列を2×3の行列に変形することができる"
   ]
  },
  {
   "cell_type": "code",
   "execution_count": 29,
   "metadata": {},
   "outputs": [
    {
     "name": "stdout",
     "output_type": "stream",
     "text": [
      "a: 1×6 Array{Int64,2} [1 2 3 4 5 6]\n",
      "b: 2×3 Array{Int64,2} [1 3 5; 2 4 6]\n"
     ]
    }
   ],
   "source": [
    "# 1x6 Array{Int,2}\n",
    "a = [1 2 3 4 5 6]\n",
    "println(\"a: $(size(a,1))×$(size(a,2)) $(typeof(a)) $(a)\")\n",
    "\n",
    "# 1x6 => 2x3 に次元変形\n",
    "b = reshape(a, 2, 3)\n",
    "println(\"b: $(size(b,1))×$(size(b,2)) $(typeof(b)) $(b)\")"
   ]
  },
  {
   "cell_type": "markdown",
   "metadata": {},
   "source": [
    "### 転置行列\n",
    "行列の行と列を入れ替えた行列を転置行列と呼ぶ\n",
    "\n",
    "転置行列は、`'`演算子もしくは`transpose`関数で求めることができる"
   ]
  },
  {
   "cell_type": "code",
   "execution_count": 30,
   "metadata": {},
   "outputs": [
    {
     "data": {
      "text/plain": [
       "3×3 LinearAlgebra.Adjoint{Int64,Array{Int64,2}}:\n",
       " 1  4  7\n",
       " 2  5  8\n",
       " 3  6  9"
      ]
     },
     "execution_count": 30,
     "metadata": {},
     "output_type": "execute_result"
    }
   ],
   "source": [
    "a = [1 2 3; 4 5 6; 7 8 9]\n",
    "\n",
    "# 転置行列: transpose(a) でも可\n",
    "a'"
   ]
  },
  {
   "cell_type": "markdown",
   "metadata": {},
   "source": [
    "## 行列の内積\n",
    "\n",
    "行列の内積は `tensorA * tensorB` で表され、行列の各要素の乗算である `tensorA .* tensorB` とは明確に区別される\n",
    "\n",
    "内積は、被乗数Aの列と乗数Bの行が同サイズである必要があるが、各要素の乗算では、被乗数Aと乗数Bの行・列ともに同サイズである必要がある\n",
    "\n",
    "例えば、2×3行列A`(1 2 3; 4 5 6)` と 3×1行列B`(9; 8; 7)` は内積を計算することはできるが、各要素の乗算を行うことはできない"
   ]
  },
  {
   "cell_type": "code",
   "execution_count": 27,
   "metadata": {},
   "outputs": [
    {
     "data": {
      "text/plain": [
       "2-element Array{Int64,1}:\n",
       "  46\n",
       " 118"
      ]
     },
     "execution_count": 27,
     "metadata": {},
     "output_type": "execute_result"
    }
   ],
   "source": [
    "A = [1 2 3; 4 5 6]\n",
    "B = [9; 8; 7]\n",
    "\n",
    "# 内積: [1*9 + 2*8 + 3*7; 4*9 + 5*8 + 6*7]\n",
    "A * B"
   ]
  },
  {
   "cell_type": "code",
   "execution_count": 28,
   "metadata": {},
   "outputs": [
    {
     "data": {
      "text/plain": [
       "2×2 Array{Int64,2}:\n",
       "  5  12\n",
       " 21  32"
      ]
     },
     "execution_count": 28,
     "metadata": {},
     "output_type": "execute_result"
    }
   ],
   "source": [
    "A = [1 2; 3 4]\n",
    "B = [5 6; 7 8]\n",
    "\n",
    "# 各要素の乗算: [1*5 2*6; 3*7 4*8]\n",
    "A .* B"
   ]
  },
  {
   "cell_type": "code",
   "execution_count": null,
   "metadata": {},
   "outputs": [],
   "source": []
  }
 ],
 "metadata": {
  "kernelspec": {
   "display_name": "Julia 1.2.0",
   "language": "julia",
   "name": "julia-1.2"
  },
  "language_info": {
   "file_extension": ".jl",
   "mimetype": "application/julia",
   "name": "julia",
   "version": "1.2.0"
  }
 },
 "nbformat": 4,
 "nbformat_minor": 2
}
